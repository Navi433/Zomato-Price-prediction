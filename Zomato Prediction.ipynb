{
 "cells": [
  {
   "cell_type": "markdown",
   "metadata": {},
   "source": [
    "# Zomato prediction"
   ]
  },
  {
   "cell_type": "markdown",
   "metadata": {},
   "source": [
    "Problem='''The basic idea of analysing the Zomato dataset is to get a fair idea about the factors affecting the\n",
    "aggregate rating of each restaurant, establishment of different types of restaurant at different\n",
    "places, Bengaluru being one such city has more than 12,000 restaurants with restaurants serving\n",
    "dishes from all over the world. With each day new restaurants opening the industry hasn’t been\n",
    "saturated yet and the demand is increasing day by day. In spite of increasing demand it however\n",
    "has become difficult for new restaurants to compete with established restaurants. Most of them\n",
    "serving the same food. Bengaluru being an IT capital of India. Most of the people here are\n",
    "dependent mainly on the restaurant food as they don&#39;t have time to cook for themselves. With\n",
    "such an overwhelming demand of restaurants it has therefore become important to study the\n",
    "demography of a location. Hence build a model to predict the rating of the each restaurants.'''\n"
   ]
  },
  {
   "cell_type": "code",
   "execution_count": 1,
   "metadata": {},
   "outputs": [],
   "source": [
    "#Importing required libaries\n",
    "import numpy as np\n",
    "import pandas as pd\n",
    "import seaborn as sb\n",
    "import matplotlib.pyplot as plt\n",
    "import seaborn as sns\n",
    "from sklearn.linear_model import LinearRegression\n",
    "from sklearn.model_selection import train_test_split\n",
    "\n"
   ]
  },
  {
   "cell_type": "code",
   "execution_count": 2,
   "metadata": {},
   "outputs": [],
   "source": [
    "dataset=pd.read_excel('C:/Users/Admin/Desktop/Practisse/zomato.xlsx')"
   ]
  },
  {
   "cell_type": "code",
   "execution_count": 3,
   "metadata": {},
   "outputs": [
    {
     "data": {
      "text/html": [
       "<div>\n",
       "<style scoped>\n",
       "    .dataframe tbody tr th:only-of-type {\n",
       "        vertical-align: middle;\n",
       "    }\n",
       "\n",
       "    .dataframe tbody tr th {\n",
       "        vertical-align: top;\n",
       "    }\n",
       "\n",
       "    .dataframe thead th {\n",
       "        text-align: right;\n",
       "    }\n",
       "</style>\n",
       "<table border=\"1\" class=\"dataframe\">\n",
       "  <thead>\n",
       "    <tr style=\"text-align: right;\">\n",
       "      <th></th>\n",
       "      <th>url</th>\n",
       "      <th>address</th>\n",
       "      <th>name</th>\n",
       "      <th>online_order</th>\n",
       "      <th>book_table</th>\n",
       "      <th>votes</th>\n",
       "      <th>phone</th>\n",
       "      <th>location</th>\n",
       "      <th>rest_type</th>\n",
       "      <th>dish_liked</th>\n",
       "      <th>cuisines</th>\n",
       "      <th>approx_cost(for two people)</th>\n",
       "      <th>reviews_list</th>\n",
       "      <th>menu_item</th>\n",
       "      <th>listed_in(type)</th>\n",
       "      <th>listed_in(city)</th>\n",
       "      <th>rates</th>\n",
       "    </tr>\n",
       "  </thead>\n",
       "  <tbody>\n",
       "    <tr>\n",
       "      <th>0</th>\n",
       "      <td>https://www.zomato.com/bangalore/al-swaad-take...</td>\n",
       "      <td>18, Masjid Street, Opp Akbari Masjid Neelasand...</td>\n",
       "      <td>Al Swaad Take Away</td>\n",
       "      <td>Yes</td>\n",
       "      <td>No</td>\n",
       "      <td>13</td>\n",
       "      <td>+91 7019942388\\n+91 9902335220</td>\n",
       "      <td>Richmond Road</td>\n",
       "      <td>Quick Bites</td>\n",
       "      <td>NaN</td>\n",
       "      <td>North Indian, South Indian, Arabian</td>\n",
       "      <td>350</td>\n",
       "      <td>[('Rated 1.0', 'RATED\\n  If U need reasonable ...</td>\n",
       "      <td>['Beef Seekh Kabab', 'Beef BBQ Chops', 'Beef M...</td>\n",
       "      <td>Delivery</td>\n",
       "      <td>Residency Road</td>\n",
       "      <td>3.1</td>\n",
       "    </tr>\n",
       "    <tr>\n",
       "      <th>1</th>\n",
       "      <td>https://www.zomato.com/bangalore/the-boozy-gri...</td>\n",
       "      <td>2nd Floor, 1st A Cross Road, Jyothi Nivas Coll...</td>\n",
       "      <td>The Boozy Griffin</td>\n",
       "      <td>No</td>\n",
       "      <td>Yes</td>\n",
       "      <td>5015</td>\n",
       "      <td>080 33512954</td>\n",
       "      <td>Koramangala 5th Block</td>\n",
       "      <td>Casual Dining, Pub</td>\n",
       "      <td>Cocktails, Craft Beer, Salads, Devils Chicken,...</td>\n",
       "      <td>European, Continental</td>\n",
       "      <td>1,800</td>\n",
       "      <td>[('Rated 5.0', 'RATED\\n  Really great ambience...</td>\n",
       "      <td>[]</td>\n",
       "      <td>Dine-out</td>\n",
       "      <td>Koramangala 6th Block</td>\n",
       "      <td>4.6</td>\n",
       "    </tr>\n",
       "    <tr>\n",
       "      <th>2</th>\n",
       "      <td>https://www.zomato.com/bangalore/barkat-btm-ba...</td>\n",
       "      <td>28th, 8th Cross, Maruthi Nagar, Madiwala, BTM,...</td>\n",
       "      <td>Barkat</td>\n",
       "      <td>No</td>\n",
       "      <td>No</td>\n",
       "      <td>6</td>\n",
       "      <td>+91 9019670836</td>\n",
       "      <td>BTM</td>\n",
       "      <td>Quick Bites</td>\n",
       "      <td>NaN</td>\n",
       "      <td>Kerala</td>\n",
       "      <td>250</td>\n",
       "      <td>[]</td>\n",
       "      <td>[]</td>\n",
       "      <td>Dine-out</td>\n",
       "      <td>Koramangala 4th Block</td>\n",
       "      <td>3.4</td>\n",
       "    </tr>\n",
       "    <tr>\n",
       "      <th>3</th>\n",
       "      <td>https://www.zomato.com/bangalore/sriracha-lave...</td>\n",
       "      <td>204, 2nd Level, 4th Floor, Comet Block, UB Cit...</td>\n",
       "      <td>Sriracha</td>\n",
       "      <td>No</td>\n",
       "      <td>No</td>\n",
       "      <td>699</td>\n",
       "      <td>+91 8041755366\\n+91 7022422473</td>\n",
       "      <td>Lavelle Road</td>\n",
       "      <td>Casual Dining</td>\n",
       "      <td>Noodles, Laksa, Cocktails, Dumplings, Sangria,...</td>\n",
       "      <td>Thai, Chinese, Indonesian, Asian, Momos</td>\n",
       "      <td>1,500</td>\n",
       "      <td>[('Rated 3.0', 'RATED\\n  Another restaurant in...</td>\n",
       "      <td>[]</td>\n",
       "      <td>Dine-out</td>\n",
       "      <td>Residency Road</td>\n",
       "      <td>4.3</td>\n",
       "    </tr>\n",
       "    <tr>\n",
       "      <th>4</th>\n",
       "      <td>https://www.zomato.com/bangalore/sri-ganesh-ju...</td>\n",
       "      <td>513, Opposite Ganesh Temple, Koramangala 8th B...</td>\n",
       "      <td>Sri Ganesh Juice Junction</td>\n",
       "      <td>Yes</td>\n",
       "      <td>No</td>\n",
       "      <td>129</td>\n",
       "      <td>+91 9845623889</td>\n",
       "      <td>Koramangala 8th Block</td>\n",
       "      <td>Beverage Shop</td>\n",
       "      <td>NaN</td>\n",
       "      <td>Juices, Fast Food</td>\n",
       "      <td>150</td>\n",
       "      <td>[('Rated 4.0', 'RATED\\n  Good cafe with most v...</td>\n",
       "      <td>['Dry Fruit Milkshake', 'Wheat Grass with Wate...</td>\n",
       "      <td>Delivery</td>\n",
       "      <td>Koramangala 6th Block</td>\n",
       "      <td>3.7</td>\n",
       "    </tr>\n",
       "  </tbody>\n",
       "</table>\n",
       "</div>"
      ],
      "text/plain": [
       "                                                 url  \\\n",
       "0  https://www.zomato.com/bangalore/al-swaad-take...   \n",
       "1  https://www.zomato.com/bangalore/the-boozy-gri...   \n",
       "2  https://www.zomato.com/bangalore/barkat-btm-ba...   \n",
       "3  https://www.zomato.com/bangalore/sriracha-lave...   \n",
       "4  https://www.zomato.com/bangalore/sri-ganesh-ju...   \n",
       "\n",
       "                                             address  \\\n",
       "0  18, Masjid Street, Opp Akbari Masjid Neelasand...   \n",
       "1  2nd Floor, 1st A Cross Road, Jyothi Nivas Coll...   \n",
       "2  28th, 8th Cross, Maruthi Nagar, Madiwala, BTM,...   \n",
       "3  204, 2nd Level, 4th Floor, Comet Block, UB Cit...   \n",
       "4  513, Opposite Ganesh Temple, Koramangala 8th B...   \n",
       "\n",
       "                        name online_order book_table  votes  \\\n",
       "0         Al Swaad Take Away          Yes         No     13   \n",
       "1          The Boozy Griffin           No        Yes   5015   \n",
       "2                     Barkat           No         No      6   \n",
       "3                   Sriracha           No         No    699   \n",
       "4  Sri Ganesh Juice Junction          Yes         No    129   \n",
       "\n",
       "                            phone               location           rest_type  \\\n",
       "0  +91 7019942388\\n+91 9902335220          Richmond Road         Quick Bites   \n",
       "1                    080 33512954  Koramangala 5th Block  Casual Dining, Pub   \n",
       "2                  +91 9019670836                    BTM         Quick Bites   \n",
       "3  +91 8041755366\\n+91 7022422473           Lavelle Road       Casual Dining   \n",
       "4                  +91 9845623889  Koramangala 8th Block       Beverage Shop   \n",
       "\n",
       "                                          dish_liked  \\\n",
       "0                                                NaN   \n",
       "1  Cocktails, Craft Beer, Salads, Devils Chicken,...   \n",
       "2                                                NaN   \n",
       "3  Noodles, Laksa, Cocktails, Dumplings, Sangria,...   \n",
       "4                                                NaN   \n",
       "\n",
       "                                  cuisines approx_cost(for two people)  \\\n",
       "0      North Indian, South Indian, Arabian                         350   \n",
       "1                    European, Continental                       1,800   \n",
       "2                                   Kerala                         250   \n",
       "3  Thai, Chinese, Indonesian, Asian, Momos                       1,500   \n",
       "4                        Juices, Fast Food                         150   \n",
       "\n",
       "                                        reviews_list  \\\n",
       "0  [('Rated 1.0', 'RATED\\n  If U need reasonable ...   \n",
       "1  [('Rated 5.0', 'RATED\\n  Really great ambience...   \n",
       "2                                                 []   \n",
       "3  [('Rated 3.0', 'RATED\\n  Another restaurant in...   \n",
       "4  [('Rated 4.0', 'RATED\\n  Good cafe with most v...   \n",
       "\n",
       "                                           menu_item listed_in(type)  \\\n",
       "0  ['Beef Seekh Kabab', 'Beef BBQ Chops', 'Beef M...        Delivery   \n",
       "1                                                 []        Dine-out   \n",
       "2                                                 []        Dine-out   \n",
       "3                                                 []        Dine-out   \n",
       "4  ['Dry Fruit Milkshake', 'Wheat Grass with Wate...        Delivery   \n",
       "\n",
       "         listed_in(city) rates  \n",
       "0         Residency Road  3.1   \n",
       "1  Koramangala 6th Block  4.6   \n",
       "2  Koramangala 4th Block  3.4   \n",
       "3         Residency Road  4.3   \n",
       "4  Koramangala 6th Block  3.7   "
      ]
     },
     "execution_count": 3,
     "metadata": {},
     "output_type": "execute_result"
    }
   ],
   "source": [
    "dataset.head()"
   ]
  },
  {
   "cell_type": "markdown",
   "metadata": {},
   "source": [
    "# Understanding Dataset"
   ]
  },
  {
   "cell_type": "code",
   "execution_count": 4,
   "metadata": {},
   "outputs": [
    {
     "data": {
      "text/html": [
       "<div>\n",
       "<style scoped>\n",
       "    .dataframe tbody tr th:only-of-type {\n",
       "        vertical-align: middle;\n",
       "    }\n",
       "\n",
       "    .dataframe tbody tr th {\n",
       "        vertical-align: top;\n",
       "    }\n",
       "\n",
       "    .dataframe thead th {\n",
       "        text-align: right;\n",
       "    }\n",
       "</style>\n",
       "<table border=\"1\" class=\"dataframe\">\n",
       "  <thead>\n",
       "    <tr style=\"text-align: right;\">\n",
       "      <th></th>\n",
       "      <th>url</th>\n",
       "      <th>address</th>\n",
       "      <th>name</th>\n",
       "      <th>online_order</th>\n",
       "      <th>book_table</th>\n",
       "      <th>votes</th>\n",
       "      <th>phone</th>\n",
       "      <th>location</th>\n",
       "      <th>rest_type</th>\n",
       "      <th>dish_liked</th>\n",
       "      <th>cuisines</th>\n",
       "      <th>approx_cost(for two people)</th>\n",
       "      <th>reviews_list</th>\n",
       "      <th>menu_item</th>\n",
       "      <th>listed_in(type)</th>\n",
       "      <th>listed_in(city)</th>\n",
       "      <th>rates</th>\n",
       "    </tr>\n",
       "  </thead>\n",
       "  <tbody>\n",
       "    <tr>\n",
       "      <th>41368</th>\n",
       "      <td>https://www.zomato.com/bangalore/koshys-st-mar...</td>\n",
       "      <td>39, St. Marks Road, Bangalore</td>\n",
       "      <td>Koshy's</td>\n",
       "      <td>No</td>\n",
       "      <td>No</td>\n",
       "      <td>2332</td>\n",
       "      <td>080 22915840\\n080 22213793</td>\n",
       "      <td>St. Marks Road</td>\n",
       "      <td>Casual Dining</td>\n",
       "      <td>Coffee, Kulfi, Beef Steak, Chocolate Shake, Sa...</td>\n",
       "      <td>South Indian, North Indian, Chinese, Beverages</td>\n",
       "      <td>700</td>\n",
       "      <td>[('Rated 4.0', 'RATED\\n  A place where you get...</td>\n",
       "      <td>[]</td>\n",
       "      <td>Dine-out</td>\n",
       "      <td>Residency Road</td>\n",
       "      <td>3.8</td>\n",
       "    </tr>\n",
       "    <tr>\n",
       "      <th>41369</th>\n",
       "      <td>https://www.zomato.com/bangalore/midnight-spec...</td>\n",
       "      <td>521, 2nd Floor, Teachers Colony, Sarjapura Rin...</td>\n",
       "      <td>Midnight Special</td>\n",
       "      <td>Yes</td>\n",
       "      <td>No</td>\n",
       "      <td>0</td>\n",
       "      <td>+91 80420780493</td>\n",
       "      <td>HSR</td>\n",
       "      <td>Takeaway, Delivery</td>\n",
       "      <td>NaN</td>\n",
       "      <td>North Indian, Fast Food, Chinese</td>\n",
       "      <td>500</td>\n",
       "      <td>[]</td>\n",
       "      <td>[]</td>\n",
       "      <td>Delivery</td>\n",
       "      <td>Koramangala 4th Block</td>\n",
       "      <td>NaN</td>\n",
       "    </tr>\n",
       "    <tr>\n",
       "      <th>41370</th>\n",
       "      <td>https://www.zomato.com/bangalore/sholay-the-ba...</td>\n",
       "      <td>1, RMV 2nd Stage, 3rd Block, Chikkamaranahalli...</td>\n",
       "      <td>Sholay - The Barbeque</td>\n",
       "      <td>Yes</td>\n",
       "      <td>Yes</td>\n",
       "      <td>45</td>\n",
       "      <td>+91 7619328882</td>\n",
       "      <td>New BEL Road</td>\n",
       "      <td>Casual Dining</td>\n",
       "      <td>NaN</td>\n",
       "      <td>North Indian, BBQ</td>\n",
       "      <td>1,200</td>\n",
       "      <td>[('Rated 2.0', 'RATED\\n  That building homes t...</td>\n",
       "      <td>[]</td>\n",
       "      <td>Dine-out</td>\n",
       "      <td>New BEL Road</td>\n",
       "      <td>3.5</td>\n",
       "    </tr>\n",
       "    <tr>\n",
       "      <th>41371</th>\n",
       "      <td>https://www.zomato.com/bangalore/ghar-ka-bhoja...</td>\n",
       "      <td>93, 1st Floor, Opoosite Venkateshwara Temple, ...</td>\n",
       "      <td>Ghar Ka Bhojan</td>\n",
       "      <td>No</td>\n",
       "      <td>No</td>\n",
       "      <td>7</td>\n",
       "      <td>+91 9945810850\\n+91 9997888609</td>\n",
       "      <td>Domlur</td>\n",
       "      <td>Delivery</td>\n",
       "      <td>NaN</td>\n",
       "      <td>North Indian, Healthy Food</td>\n",
       "      <td>200</td>\n",
       "      <td>[('Rated 1.0', 'RATED\\n  Food not upto the mar...</td>\n",
       "      <td>[]</td>\n",
       "      <td>Delivery</td>\n",
       "      <td>MG Road</td>\n",
       "      <td>3.3</td>\n",
       "    </tr>\n",
       "    <tr>\n",
       "      <th>41372</th>\n",
       "      <td>https://www.zomato.com/bangalore/sree-sagar-ba...</td>\n",
       "      <td>8, Yarab Nagar Main Road, 2nd Stage, Banashank...</td>\n",
       "      <td>Sree Sagar</td>\n",
       "      <td>Yes</td>\n",
       "      <td>No</td>\n",
       "      <td>0</td>\n",
       "      <td>+91 9449150005</td>\n",
       "      <td>Banashankari</td>\n",
       "      <td>Quick Bites</td>\n",
       "      <td>NaN</td>\n",
       "      <td>South Indian</td>\n",
       "      <td>200</td>\n",
       "      <td>[('Rated 3.5', \"RATED\\n  Visited this restaura...</td>\n",
       "      <td>[]</td>\n",
       "      <td>Dine-out</td>\n",
       "      <td>Basavanagudi</td>\n",
       "      <td>NaN</td>\n",
       "    </tr>\n",
       "  </tbody>\n",
       "</table>\n",
       "</div>"
      ],
      "text/plain": [
       "                                                     url  \\\n",
       "41368  https://www.zomato.com/bangalore/koshys-st-mar...   \n",
       "41369  https://www.zomato.com/bangalore/midnight-spec...   \n",
       "41370  https://www.zomato.com/bangalore/sholay-the-ba...   \n",
       "41371  https://www.zomato.com/bangalore/ghar-ka-bhoja...   \n",
       "41372  https://www.zomato.com/bangalore/sree-sagar-ba...   \n",
       "\n",
       "                                                 address  \\\n",
       "41368                      39, St. Marks Road, Bangalore   \n",
       "41369  521, 2nd Floor, Teachers Colony, Sarjapura Rin...   \n",
       "41370  1, RMV 2nd Stage, 3rd Block, Chikkamaranahalli...   \n",
       "41371  93, 1st Floor, Opoosite Venkateshwara Temple, ...   \n",
       "41372  8, Yarab Nagar Main Road, 2nd Stage, Banashank...   \n",
       "\n",
       "                        name online_order book_table  votes  \\\n",
       "41368                Koshy's           No         No   2332   \n",
       "41369       Midnight Special          Yes         No      0   \n",
       "41370  Sholay - The Barbeque          Yes        Yes     45   \n",
       "41371         Ghar Ka Bhojan           No         No      7   \n",
       "41372             Sree Sagar          Yes         No      0   \n",
       "\n",
       "                                phone        location           rest_type  \\\n",
       "41368      080 22915840\\n080 22213793  St. Marks Road       Casual Dining   \n",
       "41369                 +91 80420780493             HSR  Takeaway, Delivery   \n",
       "41370                  +91 7619328882    New BEL Road       Casual Dining   \n",
       "41371  +91 9945810850\\n+91 9997888609          Domlur            Delivery   \n",
       "41372                  +91 9449150005    Banashankari         Quick Bites   \n",
       "\n",
       "                                              dish_liked  \\\n",
       "41368  Coffee, Kulfi, Beef Steak, Chocolate Shake, Sa...   \n",
       "41369                                                NaN   \n",
       "41370                                                NaN   \n",
       "41371                                                NaN   \n",
       "41372                                                NaN   \n",
       "\n",
       "                                             cuisines  \\\n",
       "41368  South Indian, North Indian, Chinese, Beverages   \n",
       "41369                North Indian, Fast Food, Chinese   \n",
       "41370                               North Indian, BBQ   \n",
       "41371                      North Indian, Healthy Food   \n",
       "41372                                    South Indian   \n",
       "\n",
       "      approx_cost(for two people)  \\\n",
       "41368                         700   \n",
       "41369                         500   \n",
       "41370                       1,200   \n",
       "41371                         200   \n",
       "41372                         200   \n",
       "\n",
       "                                            reviews_list menu_item  \\\n",
       "41368  [('Rated 4.0', 'RATED\\n  A place where you get...        []   \n",
       "41369                                                 []        []   \n",
       "41370  [('Rated 2.0', 'RATED\\n  That building homes t...        []   \n",
       "41371  [('Rated 1.0', 'RATED\\n  Food not upto the mar...        []   \n",
       "41372  [('Rated 3.5', \"RATED\\n  Visited this restaura...        []   \n",
       "\n",
       "      listed_in(type)        listed_in(city) rates  \n",
       "41368        Dine-out         Residency Road  3.8   \n",
       "41369        Delivery  Koramangala 4th Block   NaN  \n",
       "41370        Dine-out           New BEL Road  3.5   \n",
       "41371        Delivery                MG Road  3.3   \n",
       "41372        Dine-out           Basavanagudi   NaN  "
      ]
     },
     "execution_count": 4,
     "metadata": {},
     "output_type": "execute_result"
    }
   ],
   "source": [
    "dataset.tail()"
   ]
  },
  {
   "cell_type": "code",
   "execution_count": 5,
   "metadata": {},
   "outputs": [
    {
     "data": {
      "text/plain": [
       "(41373, 17)"
      ]
     },
     "execution_count": 5,
     "metadata": {},
     "output_type": "execute_result"
    }
   ],
   "source": [
    "dataset.shape"
   ]
  },
  {
   "cell_type": "code",
   "execution_count": 6,
   "metadata": {},
   "outputs": [
    {
     "name": "stdout",
     "output_type": "stream",
     "text": [
      "<class 'pandas.core.frame.DataFrame'>\n",
      "RangeIndex: 41373 entries, 0 to 41372\n",
      "Data columns (total 17 columns):\n",
      "url                            41373 non-null object\n",
      "address                        41373 non-null object\n",
      "name                           41373 non-null object\n",
      "online_order                   41373 non-null object\n",
      "book_table                     41373 non-null object\n",
      "votes                          41373 non-null int64\n",
      "phone                          40402 non-null object\n",
      "location                       41358 non-null object\n",
      "rest_type                      41198 non-null object\n",
      "dish_liked                     18901 non-null object\n",
      "cuisines                       41341 non-null object\n",
      "approx_cost(for two people)    41094 non-null object\n",
      "reviews_list                   41373 non-null object\n",
      "menu_item                      41373 non-null object\n",
      "listed_in(type)                41373 non-null object\n",
      "listed_in(city)                41373 non-null object\n",
      "rates                          33392 non-null object\n",
      "dtypes: int64(1), object(16)\n",
      "memory usage: 5.4+ MB\n"
     ]
    }
   ],
   "source": [
    "dataset.info()"
   ]
  },
  {
   "cell_type": "code",
   "execution_count": 7,
   "metadata": {},
   "outputs": [
    {
     "data": {
      "text/html": [
       "<div>\n",
       "<style scoped>\n",
       "    .dataframe tbody tr th:only-of-type {\n",
       "        vertical-align: middle;\n",
       "    }\n",
       "\n",
       "    .dataframe tbody tr th {\n",
       "        vertical-align: top;\n",
       "    }\n",
       "\n",
       "    .dataframe thead th {\n",
       "        text-align: right;\n",
       "    }\n",
       "</style>\n",
       "<table border=\"1\" class=\"dataframe\">\n",
       "  <thead>\n",
       "    <tr style=\"text-align: right;\">\n",
       "      <th></th>\n",
       "      <th>count</th>\n",
       "      <th>mean</th>\n",
       "      <th>std</th>\n",
       "      <th>min</th>\n",
       "      <th>25%</th>\n",
       "      <th>50%</th>\n",
       "      <th>75%</th>\n",
       "      <th>max</th>\n",
       "    </tr>\n",
       "  </thead>\n",
       "  <tbody>\n",
       "    <tr>\n",
       "      <th>votes</th>\n",
       "      <td>41373.0</td>\n",
       "      <td>283.771493</td>\n",
       "      <td>806.112459</td>\n",
       "      <td>0.0</td>\n",
       "      <td>7.0</td>\n",
       "      <td>41.0</td>\n",
       "      <td>200.0</td>\n",
       "      <td>16832.0</td>\n",
       "    </tr>\n",
       "  </tbody>\n",
       "</table>\n",
       "</div>"
      ],
      "text/plain": [
       "         count        mean         std  min  25%   50%    75%      max\n",
       "votes  41373.0  283.771493  806.112459  0.0  7.0  41.0  200.0  16832.0"
      ]
     },
     "execution_count": 7,
     "metadata": {},
     "output_type": "execute_result"
    }
   ],
   "source": [
    "dataset.describe().transpose()"
   ]
  },
  {
   "cell_type": "code",
   "execution_count": 8,
   "metadata": {},
   "outputs": [
    {
     "data": {
      "text/html": [
       "<div>\n",
       "<style scoped>\n",
       "    .dataframe tbody tr th:only-of-type {\n",
       "        vertical-align: middle;\n",
       "    }\n",
       "\n",
       "    .dataframe tbody tr th {\n",
       "        vertical-align: top;\n",
       "    }\n",
       "\n",
       "    .dataframe thead th {\n",
       "        text-align: right;\n",
       "    }\n",
       "</style>\n",
       "<table border=\"1\" class=\"dataframe\">\n",
       "  <thead>\n",
       "    <tr style=\"text-align: right;\">\n",
       "      <th></th>\n",
       "      <th>votes</th>\n",
       "    </tr>\n",
       "  </thead>\n",
       "  <tbody>\n",
       "    <tr>\n",
       "      <th>count</th>\n",
       "      <td>41373.000000</td>\n",
       "    </tr>\n",
       "    <tr>\n",
       "      <th>mean</th>\n",
       "      <td>283.771493</td>\n",
       "    </tr>\n",
       "    <tr>\n",
       "      <th>std</th>\n",
       "      <td>806.112459</td>\n",
       "    </tr>\n",
       "    <tr>\n",
       "      <th>min</th>\n",
       "      <td>0.000000</td>\n",
       "    </tr>\n",
       "    <tr>\n",
       "      <th>25%</th>\n",
       "      <td>7.000000</td>\n",
       "    </tr>\n",
       "    <tr>\n",
       "      <th>50%</th>\n",
       "      <td>41.000000</td>\n",
       "    </tr>\n",
       "    <tr>\n",
       "      <th>75%</th>\n",
       "      <td>200.000000</td>\n",
       "    </tr>\n",
       "    <tr>\n",
       "      <th>max</th>\n",
       "      <td>16832.000000</td>\n",
       "    </tr>\n",
       "  </tbody>\n",
       "</table>\n",
       "</div>"
      ],
      "text/plain": [
       "              votes\n",
       "count  41373.000000\n",
       "mean     283.771493\n",
       "std      806.112459\n",
       "min        0.000000\n",
       "25%        7.000000\n",
       "50%       41.000000\n",
       "75%      200.000000\n",
       "max    16832.000000"
      ]
     },
     "execution_count": 8,
     "metadata": {},
     "output_type": "execute_result"
    }
   ],
   "source": [
    "dataset.describe()"
   ]
  },
  {
   "cell_type": "code",
   "execution_count": 9,
   "metadata": {},
   "outputs": [
    {
     "data": {
      "text/plain": [
       "Index(['url', 'address', 'name', 'online_order', 'book_table', 'votes',\n",
       "       'phone', 'location', 'rest_type', 'dish_liked', 'cuisines',\n",
       "       'approx_cost(for two people)', 'reviews_list', 'menu_item',\n",
       "       'listed_in(type)', 'listed_in(city)', 'rates'],\n",
       "      dtype='object')"
      ]
     },
     "execution_count": 9,
     "metadata": {},
     "output_type": "execute_result"
    }
   ],
   "source": [
    "dataset.columns"
   ]
  },
  {
   "cell_type": "markdown",
   "metadata": {},
   "source": [
    "# Data Preprocessing"
   ]
  },
  {
   "cell_type": "code",
   "execution_count": 10,
   "metadata": {},
   "outputs": [
    {
     "data": {
      "text/plain": [
       "True"
      ]
     },
     "execution_count": 10,
     "metadata": {},
     "output_type": "execute_result"
    }
   ],
   "source": [
    "dataset.isnull().values.any()"
   ]
  },
  {
   "cell_type": "code",
   "execution_count": 11,
   "metadata": {},
   "outputs": [
    {
     "data": {
      "text/plain": [
       "url                                0\n",
       "address                            0\n",
       "name                               0\n",
       "online_order                       0\n",
       "book_table                         0\n",
       "votes                              0\n",
       "phone                            971\n",
       "location                          15\n",
       "rest_type                        175\n",
       "dish_liked                     22472\n",
       "cuisines                          32\n",
       "approx_cost(for two people)      279\n",
       "reviews_list                       0\n",
       "menu_item                          0\n",
       "listed_in(type)                    0\n",
       "listed_in(city)                    0\n",
       "rates                           7981\n",
       "dtype: int64"
      ]
     },
     "execution_count": 11,
     "metadata": {},
     "output_type": "execute_result"
    }
   ],
   "source": [
    "dataset.isnull().sum()"
   ]
  },
  {
   "cell_type": "code",
   "execution_count": 12,
   "metadata": {},
   "outputs": [
    {
     "data": {
      "text/plain": [
       "<matplotlib.axes._subplots.AxesSubplot at 0x28a0005deb8>"
      ]
     },
     "execution_count": 12,
     "metadata": {},
     "output_type": "execute_result"
    },
    {
     "data": {
      "image/png": "[encoded data removed]",
      "text/plain": [
       "<Figure size 432x288 with 2 Axes>"
      ]
     },
     "metadata": {
      "needs_background": "light"
     },
     "output_type": "display_data"
    }
   ],
   "source": [
    "sns.heatmap(dataset.isnull())"
   ]
  },
  {
   "cell_type": "code",
   "execution_count": 13,
   "metadata": {},
   "outputs": [],
   "source": [
    "## from the heatmap visualtion we can see that there are more than 50% of null values we need to fix that\n",
    "# now i am gonna drop unnecessry columns which doesn't play an important role to build our model i.e url,phone,dishliked"
   ]
  },
  {
   "cell_type": "code",
   "execution_count": 104,
   "metadata": {},
   "outputs": [
    {
     "data": {
      "text/plain": [
       "Index(['url', 'address', 'name', 'online_order', 'book_table', 'votes',\n",
       "       'phone', 'location', 'rest_type', 'dish_liked', 'cuisines',\n",
       "       'approx_cost(for two people)', 'reviews_list', 'menu_item',\n",
       "       'listed_in(type)', 'listed_in(city)', 'rates'],\n",
       "      dtype='object')"
      ]
     },
     "execution_count": 104,
     "metadata": {},
     "output_type": "execute_result"
    }
   ],
   "source": [
    "# No of restaurants in locations wise\n",
    "\n",
    "dataset.columns"
   ]
  },
  {
   "cell_type": "code",
   "execution_count": 106,
   "metadata": {},
   "outputs": [
    {
     "data": {
      "image/png": "[encoded data removed]",
      "text/plain": [
       "<Figure size 1440x504 with 1 Axes>"
      ]
     },
     "metadata": {
      "needs_background": "light"
     },
     "output_type": "display_data"
    }
   ],
   "source": [
    "fig = plt.figure(figsize=(20,7))\n",
    "loc = sns.countplot(x=\"location\",data=dataset, palette = \"Set1\")"
   ]
  },
  {
   "cell_type": "code",
   "execution_count": 110,
   "metadata": {},
   "outputs": [
    {
     "data": {
      "text/plain": [
       "<matplotlib.axes._subplots.AxesSubplot at 0x28a35b24a58>"
      ]
     },
     "execution_count": 110,
     "metadata": {},
     "output_type": "execute_result"
    },
    {
     "data": {
      "image/png": "[encoded data removed]",
      "text/plain": [
       "<Figure size 432x288 with 1 Axes>"
      ]
     },
     "metadata": {
      "needs_background": "light"
     },
     "output_type": "display_data"
    }
   ],
   "source": [
    "sns.distplot(dataset1['costfor2people'],color=\"red\")"
   ]
  },
  {
   "cell_type": "code",
   "execution_count": 114,
   "metadata": {},
   "outputs": [
    {
     "data": {
      "text/plain": [
       "(array([4.0000e+00, 2.8000e+01, 2.0000e+01, 8.9000e+01, 8.0000e+01,\n",
       "        4.3200e+02, 4.7600e+02, 1.4450e+03, 1.2510e+03, 3.2800e+03,\n",
       "        4.2390e+03, 2.6420e+03, 1.4044e+04, 3.1830e+03, 4.8880e+03,\n",
       "        1.7470e+03, 2.2820e+03, 5.1600e+02, 3.7500e+02, 1.0400e+02]),\n",
       " array([1.8  , 1.955, 2.11 , 2.265, 2.42 , 2.575, 2.73 , 2.885, 3.04 ,\n",
       "        3.195, 3.35 , 3.505, 3.66 , 3.815, 3.97 , 4.125, 4.28 , 4.435,\n",
       "        4.59 , 4.745, 4.9  ]),\n",
       " <a list of 20 Patch objects>)"
      ]
     },
     "execution_count": 114,
     "metadata": {},
     "output_type": "execute_result"
    },
    {
     "data": {
      "image/png": "[encoded data removed]",
      "text/plain": [
       "<Figure size 432x288 with 1 Axes>"
      ]
     },
     "metadata": {
      "needs_background": "light"
     },
     "output_type": "display_data"
    }
   ],
   "source": [
    "rating = dataset1['rates']\n",
    "plt.hist(rating,bins=20,color=\"blue\")"
   ]
  },
  {
   "cell_type": "code",
   "execution_count": 15,
   "metadata": {},
   "outputs": [
    {
     "name": "stdout",
     "output_type": "stream",
     "text": [
      "<class 'pandas.core.frame.DataFrame'>\n",
      "RangeIndex: 41373 entries, 0 to 41372\n",
      "Data columns (total 17 columns):\n",
      "url                            41373 non-null object\n",
      "address                        41373 non-null object\n",
      "name                           41373 non-null object\n",
      "online_order                   41373 non-null object\n",
      "book_table                     41373 non-null object\n",
      "votes                          41373 non-null int64\n",
      "phone                          40402 non-null object\n",
      "location                       41358 non-null object\n",
      "rest_type                      41198 non-null object\n",
      "dish_liked                     18901 non-null object\n",
      "cuisines                       41341 non-null object\n",
      "approx_cost(for two people)    41094 non-null object\n",
      "reviews_list                   41373 non-null object\n",
      "menu_item                      41373 non-null object\n",
      "listed_in(type)                41373 non-null object\n",
      "listed_in(city)                41373 non-null object\n",
      "rates                          33392 non-null object\n",
      "dtypes: int64(1), object(16)\n",
      "memory usage: 5.4+ MB\n"
     ]
    }
   ],
   "source": [
    "dataset.info()"
   ]
  },
  {
   "cell_type": "code",
   "execution_count": 16,
   "metadata": {},
   "outputs": [],
   "source": [
    "# i am going to save that in another dataset"
   ]
  },
  {
   "cell_type": "code",
   "execution_count": 17,
   "metadata": {},
   "outputs": [],
   "source": [
    "dataset1=dataset.drop(axis=1,columns=['url','dish_liked','phone','reviews_list'])"
   ]
  },
  {
   "cell_type": "code",
   "execution_count": 18,
   "metadata": {},
   "outputs": [
    {
     "data": {
      "text/plain": [
       "Index(['address', 'name', 'online_order', 'book_table', 'votes', 'location',\n",
       "       'rest_type', 'cuisines', 'approx_cost(for two people)', 'menu_item',\n",
       "       'listed_in(type)', 'listed_in(city)', 'rates'],\n",
       "      dtype='object')"
      ]
     },
     "execution_count": 18,
     "metadata": {},
     "output_type": "execute_result"
    }
   ],
   "source": [
    "dataset1.columns"
   ]
  },
  {
   "cell_type": "code",
   "execution_count": 19,
   "metadata": {},
   "outputs": [],
   "source": [
    "dataset1.rename({'approx_cost(for two people)':'costfor2people','listed_in(type)':'listtype','listed_in(city)':'citylist'},inplace=True,axis=1)"
   ]
  },
  {
   "cell_type": "code",
   "execution_count": 20,
   "metadata": {},
   "outputs": [
    {
     "data": {
      "text/plain": [
       "Index(['address', 'name', 'online_order', 'book_table', 'votes', 'location',\n",
       "       'rest_type', 'cuisines', 'costfor2people', 'menu_item', 'listtype',\n",
       "       'citylist', 'rates'],\n",
       "      dtype='object')"
      ]
     },
     "execution_count": 20,
     "metadata": {},
     "output_type": "execute_result"
    }
   ],
   "source": [
    "dataset1.columns"
   ]
  },
  {
   "cell_type": "code",
   "execution_count": 21,
   "metadata": {},
   "outputs": [
    {
     "data": {
      "text/html": [
       "<div>\n",
       "<style scoped>\n",
       "    .dataframe tbody tr th:only-of-type {\n",
       "        vertical-align: middle;\n",
       "    }\n",
       "\n",
       "    .dataframe tbody tr th {\n",
       "        vertical-align: top;\n",
       "    }\n",
       "\n",
       "    .dataframe thead th {\n",
       "        text-align: right;\n",
       "    }\n",
       "</style>\n",
       "<table border=\"1\" class=\"dataframe\">\n",
       "  <thead>\n",
       "    <tr style=\"text-align: right;\">\n",
       "      <th></th>\n",
       "      <th>address</th>\n",
       "      <th>name</th>\n",
       "      <th>online_order</th>\n",
       "      <th>book_table</th>\n",
       "      <th>votes</th>\n",
       "      <th>location</th>\n",
       "      <th>rest_type</th>\n",
       "      <th>cuisines</th>\n",
       "      <th>costfor2people</th>\n",
       "      <th>menu_item</th>\n",
       "      <th>listtype</th>\n",
       "      <th>citylist</th>\n",
       "      <th>rates</th>\n",
       "    </tr>\n",
       "  </thead>\n",
       "  <tbody>\n",
       "    <tr>\n",
       "      <th>0</th>\n",
       "      <td>18, Masjid Street, Opp Akbari Masjid Neelasand...</td>\n",
       "      <td>Al Swaad Take Away</td>\n",
       "      <td>Yes</td>\n",
       "      <td>No</td>\n",
       "      <td>13</td>\n",
       "      <td>Richmond Road</td>\n",
       "      <td>Quick Bites</td>\n",
       "      <td>North Indian, South Indian, Arabian</td>\n",
       "      <td>350</td>\n",
       "      <td>['Beef Seekh Kabab', 'Beef BBQ Chops', 'Beef M...</td>\n",
       "      <td>Delivery</td>\n",
       "      <td>Residency Road</td>\n",
       "      <td>3.1</td>\n",
       "    </tr>\n",
       "    <tr>\n",
       "      <th>1</th>\n",
       "      <td>2nd Floor, 1st A Cross Road, Jyothi Nivas Coll...</td>\n",
       "      <td>The Boozy Griffin</td>\n",
       "      <td>No</td>\n",
       "      <td>Yes</td>\n",
       "      <td>5015</td>\n",
       "      <td>Koramangala 5th Block</td>\n",
       "      <td>Casual Dining, Pub</td>\n",
       "      <td>European, Continental</td>\n",
       "      <td>1,800</td>\n",
       "      <td>[]</td>\n",
       "      <td>Dine-out</td>\n",
       "      <td>Koramangala 6th Block</td>\n",
       "      <td>4.6</td>\n",
       "    </tr>\n",
       "    <tr>\n",
       "      <th>2</th>\n",
       "      <td>28th, 8th Cross, Maruthi Nagar, Madiwala, BTM,...</td>\n",
       "      <td>Barkat</td>\n",
       "      <td>No</td>\n",
       "      <td>No</td>\n",
       "      <td>6</td>\n",
       "      <td>BTM</td>\n",
       "      <td>Quick Bites</td>\n",
       "      <td>Kerala</td>\n",
       "      <td>250</td>\n",
       "      <td>[]</td>\n",
       "      <td>Dine-out</td>\n",
       "      <td>Koramangala 4th Block</td>\n",
       "      <td>3.4</td>\n",
       "    </tr>\n",
       "    <tr>\n",
       "      <th>3</th>\n",
       "      <td>204, 2nd Level, 4th Floor, Comet Block, UB Cit...</td>\n",
       "      <td>Sriracha</td>\n",
       "      <td>No</td>\n",
       "      <td>No</td>\n",
       "      <td>699</td>\n",
       "      <td>Lavelle Road</td>\n",
       "      <td>Casual Dining</td>\n",
       "      <td>Thai, Chinese, Indonesian, Asian, Momos</td>\n",
       "      <td>1,500</td>\n",
       "      <td>[]</td>\n",
       "      <td>Dine-out</td>\n",
       "      <td>Residency Road</td>\n",
       "      <td>4.3</td>\n",
       "    </tr>\n",
       "    <tr>\n",
       "      <th>4</th>\n",
       "      <td>513, Opposite Ganesh Temple, Koramangala 8th B...</td>\n",
       "      <td>Sri Ganesh Juice Junction</td>\n",
       "      <td>Yes</td>\n",
       "      <td>No</td>\n",
       "      <td>129</td>\n",
       "      <td>Koramangala 8th Block</td>\n",
       "      <td>Beverage Shop</td>\n",
       "      <td>Juices, Fast Food</td>\n",
       "      <td>150</td>\n",
       "      <td>['Dry Fruit Milkshake', 'Wheat Grass with Wate...</td>\n",
       "      <td>Delivery</td>\n",
       "      <td>Koramangala 6th Block</td>\n",
       "      <td>3.7</td>\n",
       "    </tr>\n",
       "  </tbody>\n",
       "</table>\n",
       "</div>"
      ],
      "text/plain": [
       "                                             address  \\\n",
       "0  18, Masjid Street, Opp Akbari Masjid Neelasand...   \n",
       "1  2nd Floor, 1st A Cross Road, Jyothi Nivas Coll...   \n",
       "2  28th, 8th Cross, Maruthi Nagar, Madiwala, BTM,...   \n",
       "3  204, 2nd Level, 4th Floor, Comet Block, UB Cit...   \n",
       "4  513, Opposite Ganesh Temple, Koramangala 8th B...   \n",
       "\n",
       "                        name online_order book_table  votes  \\\n",
       "0         Al Swaad Take Away          Yes         No     13   \n",
       "1          The Boozy Griffin           No        Yes   5015   \n",
       "2                     Barkat           No         No      6   \n",
       "3                   Sriracha           No         No    699   \n",
       "4  Sri Ganesh Juice Junction          Yes         No    129   \n",
       "\n",
       "                location           rest_type  \\\n",
       "0          Richmond Road         Quick Bites   \n",
       "1  Koramangala 5th Block  Casual Dining, Pub   \n",
       "2                    BTM         Quick Bites   \n",
       "3           Lavelle Road       Casual Dining   \n",
       "4  Koramangala 8th Block       Beverage Shop   \n",
       "\n",
       "                                  cuisines costfor2people  \\\n",
       "0      North Indian, South Indian, Arabian            350   \n",
       "1                    European, Continental          1,800   \n",
       "2                                   Kerala            250   \n",
       "3  Thai, Chinese, Indonesian, Asian, Momos          1,500   \n",
       "4                        Juices, Fast Food            150   \n",
       "\n",
       "                                           menu_item  listtype  \\\n",
       "0  ['Beef Seekh Kabab', 'Beef BBQ Chops', 'Beef M...  Delivery   \n",
       "1                                                 []  Dine-out   \n",
       "2                                                 []  Dine-out   \n",
       "3                                                 []  Dine-out   \n",
       "4  ['Dry Fruit Milkshake', 'Wheat Grass with Wate...  Delivery   \n",
       "\n",
       "                citylist rates  \n",
       "0         Residency Road  3.1   \n",
       "1  Koramangala 6th Block  4.6   \n",
       "2  Koramangala 4th Block  3.4   \n",
       "3         Residency Road  4.3   \n",
       "4  Koramangala 6th Block  3.7   "
      ]
     },
     "execution_count": 21,
     "metadata": {},
     "output_type": "execute_result"
    }
   ],
   "source": [
    "dataset1.head()"
   ]
  },
  {
   "cell_type": "code",
   "execution_count": 22,
   "metadata": {},
   "outputs": [
    {
     "name": "stdout",
     "output_type": "stream",
     "text": [
      "<class 'pandas.core.frame.DataFrame'>\n",
      "RangeIndex: 41373 entries, 0 to 41372\n",
      "Data columns (total 13 columns):\n",
      "address           41373 non-null object\n",
      "name              41373 non-null object\n",
      "online_order      41373 non-null object\n",
      "book_table        41373 non-null object\n",
      "votes             41373 non-null int64\n",
      "location          41358 non-null object\n",
      "rest_type         41198 non-null object\n",
      "cuisines          41341 non-null object\n",
      "costfor2people    41094 non-null object\n",
      "menu_item         41373 non-null object\n",
      "listtype          41373 non-null object\n",
      "citylist          41373 non-null object\n",
      "rates             33392 non-null object\n",
      "dtypes: int64(1), object(12)\n",
      "memory usage: 4.1+ MB\n"
     ]
    }
   ],
   "source": [
    "dataset1.info()"
   ]
  },
  {
   "cell_type": "code",
   "execution_count": 23,
   "metadata": {},
   "outputs": [],
   "source": [
    "remove_comma = lambda x: int(x.replace(',', '')) if type(x) == np.str and x != np.nan else x \n",
    "dataset1['costfor2people']=dataset1['costfor2people'].apply(remove_comma)\n"
   ]
  },
  {
   "cell_type": "code",
   "execution_count": 24,
   "metadata": {},
   "outputs": [
    {
     "data": {
      "text/plain": [
       "<function __main__.<lambda>(x)>"
      ]
     },
     "execution_count": 24,
     "metadata": {},
     "output_type": "execute_result"
    }
   ],
   "source": [
    "remove_comma"
   ]
  },
  {
   "cell_type": "code",
   "execution_count": 25,
   "metadata": {},
   "outputs": [
    {
     "name": "stdout",
     "output_type": "stream",
     "text": [
      "<class 'pandas.core.frame.DataFrame'>\n",
      "RangeIndex: 41373 entries, 0 to 41372\n",
      "Data columns (total 13 columns):\n",
      "address           41373 non-null object\n",
      "name              41373 non-null object\n",
      "online_order      41373 non-null object\n",
      "book_table        41373 non-null object\n",
      "votes             41373 non-null int64\n",
      "location          41358 non-null object\n",
      "rest_type         41198 non-null object\n",
      "cuisines          41341 non-null object\n",
      "costfor2people    41094 non-null float64\n",
      "menu_item         41373 non-null object\n",
      "listtype          41373 non-null object\n",
      "citylist          41373 non-null object\n",
      "rates             33392 non-null object\n",
      "dtypes: float64(1), int64(1), object(11)\n",
      "memory usage: 4.1+ MB\n"
     ]
    }
   ],
   "source": [
    "dataset1.info()"
   ]
  },
  {
   "cell_type": "code",
   "execution_count": 26,
   "metadata": {},
   "outputs": [
    {
     "data": {
      "text/plain": [
       "array(['3.1 ', '4.6 ', '3.4 ', '4.3 ', '3.7 ', '3.0', '3.9 ', '4.1',\n",
       "       '3.6', '3.8 ', '3.2', '3.6 ', nan, '3.2 ', '3.3 ', '2.9', '4.4',\n",
       "       '3.9', '4.3', '3.8', '3.4', '4.2 ', '3.7', '4.1 ', '4.0 ', '3.5',\n",
       "       '2.7 ', '4.5', '4.6', '4.2', '4.7', '2.9 ', '3.5 ', '2.8 ', '2.7',\n",
       "       '3.1', '3.0 ', '4.4 ', '2.2', '4.5 ', '3.3', '2.6', '4.0', '2.8',\n",
       "       '-', '2.5', '2.6 ', '4.7 ', '2.3', '4.8', '4.8 ', '2.3 ', '2.4 ',\n",
       "       '2.5 ', '4.9 ', '4.9', '2.4', '2.1', '2.0 ', '1.8', '2.2 ', '2.1 ',\n",
       "       '2.0', '1.8 '], dtype=object)"
      ]
     },
     "execution_count": 26,
     "metadata": {},
     "output_type": "execute_result"
    }
   ],
   "source": [
    "dataset1['rates'].unique()"
   ]
  },
  {
   "cell_type": "code",
   "execution_count": 27,
   "metadata": {},
   "outputs": [],
   "source": [
    "dataset1=dataset1.loc[dataset1.rates!='-'].reset_index(drop=True)"
   ]
  },
  {
   "cell_type": "code",
   "execution_count": 28,
   "metadata": {},
   "outputs": [
    {
     "data": {
      "text/plain": [
       "array(['3.1 ', '4.6 ', '3.4 ', '4.3 ', '3.7 ', '3.0', '3.9 ', '4.1',\n",
       "       '3.6', '3.8 ', '3.2', '3.6 ', nan, '3.2 ', '3.3 ', '2.9', '4.4',\n",
       "       '3.9', '4.3', '3.8', '3.4', '4.2 ', '3.7', '4.1 ', '4.0 ', '3.5',\n",
       "       '2.7 ', '4.5', '4.6', '4.2', '4.7', '2.9 ', '3.5 ', '2.8 ', '2.7',\n",
       "       '3.1', '3.0 ', '4.4 ', '2.2', '4.5 ', '3.3', '2.6', '4.0', '2.8',\n",
       "       '2.5', '2.6 ', '4.7 ', '2.3', '4.8', '4.8 ', '2.3 ', '2.4 ',\n",
       "       '2.5 ', '4.9 ', '4.9', '2.4', '2.1', '2.0 ', '1.8', '2.2 ', '2.1 ',\n",
       "       '2.0', '1.8 '], dtype=object)"
      ]
     },
     "execution_count": 28,
     "metadata": {},
     "output_type": "execute_result"
    }
   ],
   "source": [
    "dataset1['rates'].unique()"
   ]
  },
  {
   "cell_type": "code",
   "execution_count": 29,
   "metadata": {},
   "outputs": [
    {
     "data": {
      "text/plain": [
       "0    3.1 \n",
       "1    4.6 \n",
       "2    3.4 \n",
       "3    4.3 \n",
       "4    3.7 \n",
       "5     3.0\n",
       "6    3.1 \n",
       "7    3.9 \n",
       "8     4.1\n",
       "9     3.6\n",
       "Name: rates, dtype: object"
      ]
     },
     "execution_count": 29,
     "metadata": {},
     "output_type": "execute_result"
    }
   ],
   "source": [
    "dataset1['rates'].head(10)"
   ]
  },
  {
   "cell_type": "code",
   "execution_count": 30,
   "metadata": {},
   "outputs": [],
   "source": [
    "dataset1['rates']=dataset1['rates'].astype('float')"
   ]
  },
  {
   "cell_type": "code",
   "execution_count": 31,
   "metadata": {},
   "outputs": [
    {
     "name": "stdout",
     "output_type": "stream",
     "text": [
      "<class 'pandas.core.frame.DataFrame'>\n",
      "RangeIndex: 41317 entries, 0 to 41316\n",
      "Data columns (total 13 columns):\n",
      "address           41317 non-null object\n",
      "name              41317 non-null object\n",
      "online_order      41317 non-null object\n",
      "book_table        41317 non-null object\n",
      "votes             41317 non-null int64\n",
      "location          41302 non-null object\n",
      "rest_type         41142 non-null object\n",
      "cuisines          41285 non-null object\n",
      "costfor2people    41042 non-null float64\n",
      "menu_item         41317 non-null object\n",
      "listtype          41317 non-null object\n",
      "citylist          41317 non-null object\n",
      "rates             33336 non-null float64\n",
      "dtypes: float64(2), int64(1), object(10)\n",
      "memory usage: 4.1+ MB\n"
     ]
    }
   ],
   "source": [
    "dataset1.info()"
   ]
  },
  {
   "cell_type": "code",
   "execution_count": 32,
   "metadata": {},
   "outputs": [],
   "source": [
    "dataset1['rates']=dataset1['rates'].fillna(dataset1['rates'].mean())"
   ]
  },
  {
   "cell_type": "code",
   "execution_count": 33,
   "metadata": {},
   "outputs": [
    {
     "data": {
      "text/plain": [
       "array([3.1       , 4.6       , 3.4       , 4.3       , 3.7       ,\n",
       "       3.        , 3.9       , 4.1       , 3.6       , 3.8       ,\n",
       "       3.2       , 3.70096592, 3.3       , 2.9       , 4.4       ,\n",
       "       4.2       , 4.        , 3.5       , 2.7       , 4.5       ,\n",
       "       4.7       , 2.8       , 2.2       , 2.6       , 2.5       ,\n",
       "       2.3       , 4.8       , 2.4       , 4.9       , 2.1       ,\n",
       "       2.        , 1.8       ])"
      ]
     },
     "execution_count": 33,
     "metadata": {},
     "output_type": "execute_result"
    }
   ],
   "source": [
    "dataset1['rates'].unique()"
   ]
  },
  {
   "cell_type": "code",
   "execution_count": 34,
   "metadata": {},
   "outputs": [
    {
     "data": {
      "text/plain": [
       "array([ 350., 1800.,  250., 1500.,  150., 1000.,  450., 2500.,  700.,\n",
       "        600.,  400.,  300.,  500.,  650.,  800.,  200.,  100., 3500.,\n",
       "         nan,  550., 1200.,  950., 2100., 1700., 1600.,  750., 2000.,\n",
       "        850., 2200., 1300.,  900., 1100.,  330., 3000.,  199., 4000.,\n",
       "       2600.,   80., 1400.,  230.,  140.,  180.,   40., 1900., 2400.,\n",
       "       2800.,  130., 1050.,   50.,  120.,  360., 1450., 1250., 1350.,\n",
       "       6000.,   70., 4500., 4100.,  160., 2300., 5000., 3200., 3700.,\n",
       "       1650., 3400.,  240., 2700.,  190.,   60.])"
      ]
     },
     "execution_count": 34,
     "metadata": {},
     "output_type": "execute_result"
    }
   ],
   "source": [
    "dataset1['costfor2people'].unique()"
   ]
  },
  {
   "cell_type": "code",
   "execution_count": 35,
   "metadata": {},
   "outputs": [],
   "source": [
    "dataset1['costfor2people']=dataset1['costfor2people'].fillna(dataset1['costfor2people'].mean())"
   ]
  },
  {
   "cell_type": "code",
   "execution_count": 36,
   "metadata": {},
   "outputs": [
    {
     "data": {
      "text/plain": [
       "array([ 350.        , 1800.        ,  250.        , 1500.        ,\n",
       "        150.        , 1000.        ,  450.        , 2500.        ,\n",
       "        700.        ,  600.        ,  400.        ,  300.        ,\n",
       "        500.        ,  650.        ,  800.        ,  200.        ,\n",
       "        100.        , 3500.        ,  554.79596511,  550.        ,\n",
       "       1200.        ,  950.        , 2100.        , 1700.        ,\n",
       "       1600.        ,  750.        , 2000.        ,  850.        ,\n",
       "       2200.        , 1300.        ,  900.        , 1100.        ,\n",
       "        330.        , 3000.        ,  199.        , 4000.        ,\n",
       "       2600.        ,   80.        , 1400.        ,  230.        ,\n",
       "        140.        ,  180.        ,   40.        , 1900.        ,\n",
       "       2400.        , 2800.        ,  130.        , 1050.        ,\n",
       "         50.        ,  120.        ,  360.        , 1450.        ,\n",
       "       1250.        , 1350.        , 6000.        ,   70.        ,\n",
       "       4500.        , 4100.        ,  160.        , 2300.        ,\n",
       "       5000.        , 3200.        , 3700.        , 1650.        ,\n",
       "       3400.        ,  240.        , 2700.        ,  190.        ,\n",
       "         60.        ])"
      ]
     },
     "execution_count": 36,
     "metadata": {},
     "output_type": "execute_result"
    }
   ],
   "source": [
    "dataset1['costfor2people'].unique()"
   ]
  },
  {
   "cell_type": "code",
   "execution_count": 37,
   "metadata": {},
   "outputs": [
    {
     "name": "stdout",
     "output_type": "stream",
     "text": [
      "<class 'pandas.core.frame.DataFrame'>\n",
      "RangeIndex: 41317 entries, 0 to 41316\n",
      "Data columns (total 13 columns):\n",
      "address           41317 non-null object\n",
      "name              41317 non-null object\n",
      "online_order      41317 non-null object\n",
      "book_table        41317 non-null object\n",
      "votes             41317 non-null int64\n",
      "location          41302 non-null object\n",
      "rest_type         41142 non-null object\n",
      "cuisines          41285 non-null object\n",
      "costfor2people    41317 non-null float64\n",
      "menu_item         41317 non-null object\n",
      "listtype          41317 non-null object\n",
      "citylist          41317 non-null object\n",
      "rates             41317 non-null float64\n",
      "dtypes: float64(2), int64(1), object(10)\n",
      "memory usage: 4.1+ MB\n"
     ]
    }
   ],
   "source": [
    "dataset1.info()"
   ]
  },
  {
   "cell_type": "code",
   "execution_count": 38,
   "metadata": {},
   "outputs": [
    {
     "data": {
      "text/plain": [
       "address             0\n",
       "name                0\n",
       "online_order        0\n",
       "book_table          0\n",
       "votes               0\n",
       "location           15\n",
       "rest_type         175\n",
       "cuisines           32\n",
       "costfor2people      0\n",
       "menu_item           0\n",
       "listtype            0\n",
       "citylist            0\n",
       "rates               0\n",
       "dtype: int64"
      ]
     },
     "execution_count": 38,
     "metadata": {},
     "output_type": "execute_result"
    }
   ],
   "source": [
    "dataset1.isnull().sum()"
   ]
  },
  {
   "cell_type": "code",
   "execution_count": 39,
   "metadata": {},
   "outputs": [
    {
     "data": {
      "text/html": [
       "<div>\n",
       "<style scoped>\n",
       "    .dataframe tbody tr th:only-of-type {\n",
       "        vertical-align: middle;\n",
       "    }\n",
       "\n",
       "    .dataframe tbody tr th {\n",
       "        vertical-align: top;\n",
       "    }\n",
       "\n",
       "    .dataframe thead th {\n",
       "        text-align: right;\n",
       "    }\n",
       "</style>\n",
       "<table border=\"1\" class=\"dataframe\">\n",
       "  <thead>\n",
       "    <tr style=\"text-align: right;\">\n",
       "      <th></th>\n",
       "      <th>address</th>\n",
       "      <th>name</th>\n",
       "      <th>online_order</th>\n",
       "      <th>book_table</th>\n",
       "      <th>votes</th>\n",
       "      <th>location</th>\n",
       "      <th>rest_type</th>\n",
       "      <th>cuisines</th>\n",
       "      <th>costfor2people</th>\n",
       "      <th>menu_item</th>\n",
       "      <th>listtype</th>\n",
       "      <th>citylist</th>\n",
       "      <th>rates</th>\n",
       "    </tr>\n",
       "  </thead>\n",
       "  <tbody>\n",
       "    <tr>\n",
       "      <th>0</th>\n",
       "      <td>18, Masjid Street, Opp Akbari Masjid Neelasand...</td>\n",
       "      <td>Al Swaad Take Away</td>\n",
       "      <td>Yes</td>\n",
       "      <td>No</td>\n",
       "      <td>13</td>\n",
       "      <td>Richmond Road</td>\n",
       "      <td>Quick Bites</td>\n",
       "      <td>North Indian, South Indian, Arabian</td>\n",
       "      <td>350.0</td>\n",
       "      <td>['Beef Seekh Kabab', 'Beef BBQ Chops', 'Beef M...</td>\n",
       "      <td>Delivery</td>\n",
       "      <td>Residency Road</td>\n",
       "      <td>3.1</td>\n",
       "    </tr>\n",
       "    <tr>\n",
       "      <th>1</th>\n",
       "      <td>2nd Floor, 1st A Cross Road, Jyothi Nivas Coll...</td>\n",
       "      <td>The Boozy Griffin</td>\n",
       "      <td>No</td>\n",
       "      <td>Yes</td>\n",
       "      <td>5015</td>\n",
       "      <td>Koramangala 5th Block</td>\n",
       "      <td>Casual Dining, Pub</td>\n",
       "      <td>European, Continental</td>\n",
       "      <td>1800.0</td>\n",
       "      <td>[]</td>\n",
       "      <td>Dine-out</td>\n",
       "      <td>Koramangala 6th Block</td>\n",
       "      <td>4.6</td>\n",
       "    </tr>\n",
       "    <tr>\n",
       "      <th>2</th>\n",
       "      <td>28th, 8th Cross, Maruthi Nagar, Madiwala, BTM,...</td>\n",
       "      <td>Barkat</td>\n",
       "      <td>No</td>\n",
       "      <td>No</td>\n",
       "      <td>6</td>\n",
       "      <td>BTM</td>\n",
       "      <td>Quick Bites</td>\n",
       "      <td>Kerala</td>\n",
       "      <td>250.0</td>\n",
       "      <td>[]</td>\n",
       "      <td>Dine-out</td>\n",
       "      <td>Koramangala 4th Block</td>\n",
       "      <td>3.4</td>\n",
       "    </tr>\n",
       "    <tr>\n",
       "      <th>3</th>\n",
       "      <td>204, 2nd Level, 4th Floor, Comet Block, UB Cit...</td>\n",
       "      <td>Sriracha</td>\n",
       "      <td>No</td>\n",
       "      <td>No</td>\n",
       "      <td>699</td>\n",
       "      <td>Lavelle Road</td>\n",
       "      <td>Casual Dining</td>\n",
       "      <td>Thai, Chinese, Indonesian, Asian, Momos</td>\n",
       "      <td>1500.0</td>\n",
       "      <td>[]</td>\n",
       "      <td>Dine-out</td>\n",
       "      <td>Residency Road</td>\n",
       "      <td>4.3</td>\n",
       "    </tr>\n",
       "    <tr>\n",
       "      <th>4</th>\n",
       "      <td>513, Opposite Ganesh Temple, Koramangala 8th B...</td>\n",
       "      <td>Sri Ganesh Juice Junction</td>\n",
       "      <td>Yes</td>\n",
       "      <td>No</td>\n",
       "      <td>129</td>\n",
       "      <td>Koramangala 8th Block</td>\n",
       "      <td>Beverage Shop</td>\n",
       "      <td>Juices, Fast Food</td>\n",
       "      <td>150.0</td>\n",
       "      <td>['Dry Fruit Milkshake', 'Wheat Grass with Wate...</td>\n",
       "      <td>Delivery</td>\n",
       "      <td>Koramangala 6th Block</td>\n",
       "      <td>3.7</td>\n",
       "    </tr>\n",
       "  </tbody>\n",
       "</table>\n",
       "</div>"
      ],
      "text/plain": [
       "                                             address  \\\n",
       "0  18, Masjid Street, Opp Akbari Masjid Neelasand...   \n",
       "1  2nd Floor, 1st A Cross Road, Jyothi Nivas Coll...   \n",
       "2  28th, 8th Cross, Maruthi Nagar, Madiwala, BTM,...   \n",
       "3  204, 2nd Level, 4th Floor, Comet Block, UB Cit...   \n",
       "4  513, Opposite Ganesh Temple, Koramangala 8th B...   \n",
       "\n",
       "                        name online_order book_table  votes  \\\n",
       "0         Al Swaad Take Away          Yes         No     13   \n",
       "1          The Boozy Griffin           No        Yes   5015   \n",
       "2                     Barkat           No         No      6   \n",
       "3                   Sriracha           No         No    699   \n",
       "4  Sri Ganesh Juice Junction          Yes         No    129   \n",
       "\n",
       "                location           rest_type  \\\n",
       "0          Richmond Road         Quick Bites   \n",
       "1  Koramangala 5th Block  Casual Dining, Pub   \n",
       "2                    BTM         Quick Bites   \n",
       "3           Lavelle Road       Casual Dining   \n",
       "4  Koramangala 8th Block       Beverage Shop   \n",
       "\n",
       "                                  cuisines  costfor2people  \\\n",
       "0      North Indian, South Indian, Arabian           350.0   \n",
       "1                    European, Continental          1800.0   \n",
       "2                                   Kerala           250.0   \n",
       "3  Thai, Chinese, Indonesian, Asian, Momos          1500.0   \n",
       "4                        Juices, Fast Food           150.0   \n",
       "\n",
       "                                           menu_item  listtype  \\\n",
       "0  ['Beef Seekh Kabab', 'Beef BBQ Chops', 'Beef M...  Delivery   \n",
       "1                                                 []  Dine-out   \n",
       "2                                                 []  Dine-out   \n",
       "3                                                 []  Dine-out   \n",
       "4  ['Dry Fruit Milkshake', 'Wheat Grass with Wate...  Delivery   \n",
       "\n",
       "                citylist  rates  \n",
       "0         Residency Road    3.1  \n",
       "1  Koramangala 6th Block    4.6  \n",
       "2  Koramangala 4th Block    3.4  \n",
       "3         Residency Road    4.3  \n",
       "4  Koramangala 6th Block    3.7  "
      ]
     },
     "execution_count": 39,
     "metadata": {},
     "output_type": "execute_result"
    }
   ],
   "source": [
    "dataset1.head()"
   ]
  },
  {
   "cell_type": "code",
   "execution_count": 40,
   "metadata": {},
   "outputs": [
    {
     "data": {
      "text/plain": [
       "<matplotlib.axes._subplots.AxesSubplot at 0x28a00d15828>"
      ]
     },
     "execution_count": 40,
     "metadata": {},
     "output_type": "execute_result"
    },
    {
     "data": {
      "image/png": "[encoded data removed]",
      "text/plain": [
       "<Figure size 432x288 with 2 Axes>"
      ]
     },
     "metadata": {
      "needs_background": "light"
     },
     "output_type": "display_data"
    }
   ],
   "source": [
    "sns.heatmap(dataset1.isnull())"
   ]
  },
  {
   "cell_type": "code",
   "execution_count": 41,
   "metadata": {},
   "outputs": [],
   "source": [
    "dataset1.dropna(how='any',inplace=True)"
   ]
  },
  {
   "cell_type": "code",
   "execution_count": 42,
   "metadata": {},
   "outputs": [
    {
     "data": {
      "text/plain": [
       "<matplotlib.axes._subplots.AxesSubplot at 0x28a0150a668>"
      ]
     },
     "execution_count": 42,
     "metadata": {},
     "output_type": "execute_result"
    },
    {
     "data": {
      "image/png": "[encoded data removed]",
      "text/plain": [
       "<Figure size 432x288 with 2 Axes>"
      ]
     },
     "metadata": {
      "needs_background": "light"
     },
     "output_type": "display_data"
    }
   ],
   "source": [
    "sns.heatmap(dataset1.isnull())"
   ]
  },
  {
   "cell_type": "code",
   "execution_count": 43,
   "metadata": {},
   "outputs": [
    {
     "name": "stdout",
     "output_type": "stream",
     "text": [
      "<class 'pandas.core.frame.DataFrame'>\n",
      "Int64Index: 41125 entries, 0 to 41316\n",
      "Data columns (total 13 columns):\n",
      "address           41125 non-null object\n",
      "name              41125 non-null object\n",
      "online_order      41125 non-null object\n",
      "book_table        41125 non-null object\n",
      "votes             41125 non-null int64\n",
      "location          41125 non-null object\n",
      "rest_type         41125 non-null object\n",
      "cuisines          41125 non-null object\n",
      "costfor2people    41125 non-null float64\n",
      "menu_item         41125 non-null object\n",
      "listtype          41125 non-null object\n",
      "citylist          41125 non-null object\n",
      "rates             41125 non-null float64\n",
      "dtypes: float64(2), int64(1), object(10)\n",
      "memory usage: 4.4+ MB\n"
     ]
    }
   ],
   "source": [
    "dataset1.info()"
   ]
  },
  {
   "cell_type": "code",
   "execution_count": 44,
   "metadata": {},
   "outputs": [
    {
     "data": {
      "text/plain": [
       "address           0\n",
       "name              0\n",
       "online_order      0\n",
       "book_table        0\n",
       "votes             0\n",
       "location          0\n",
       "rest_type         0\n",
       "cuisines          0\n",
       "costfor2people    0\n",
       "menu_item         0\n",
       "listtype          0\n",
       "citylist          0\n",
       "rates             0\n",
       "dtype: int64"
      ]
     },
     "execution_count": 44,
     "metadata": {},
     "output_type": "execute_result"
    }
   ],
   "source": [
    "dataset1.isnull().sum()"
   ]
  },
  {
   "cell_type": "code",
   "execution_count": 45,
   "metadata": {},
   "outputs": [
    {
     "data": {
      "text/plain": [
       "Index(['address', 'name', 'online_order', 'book_table', 'votes', 'location',\n",
       "       'rest_type', 'cuisines', 'costfor2people', 'menu_item', 'listtype',\n",
       "       'citylist', 'rates'],\n",
       "      dtype='object')"
      ]
     },
     "execution_count": 45,
     "metadata": {},
     "output_type": "execute_result"
    }
   ],
   "source": [
    "dataset1.columns"
   ]
  },
  {
   "cell_type": "code",
   "execution_count": 46,
   "metadata": {},
   "outputs": [
    {
     "data": {
      "text/plain": [
       "<matplotlib.axes._subplots.AxesSubplot at 0x28a015d2d30>"
      ]
     },
     "execution_count": 46,
     "metadata": {},
     "output_type": "execute_result"
    },
    {
     "data": {
      "image/png": "[encoded data removed]",
      "text/plain": [
       "<Figure size 432x288 with 1 Axes>"
      ]
     },
     "metadata": {
      "needs_background": "light"
     },
     "output_type": "display_data"
    }
   ],
   "source": [
    "sns.countplot(dataset1.online_order)"
   ]
  },
  {
   "cell_type": "code",
   "execution_count": 47,
   "metadata": {},
   "outputs": [
    {
     "data": {
      "text/plain": [
       "<matplotlib.axes._subplots.AxesSubplot at 0x28a6af92cf8>"
      ]
     },
     "execution_count": 47,
     "metadata": {},
     "output_type": "execute_result"
    },
    {
     "data": {
      "image/png": "[encoded data removed]",
      "text/plain": [
       "<Figure size 432x288 with 1 Axes>"
      ]
     },
     "metadata": {
      "needs_background": "light"
     },
     "output_type": "display_data"
    }
   ],
   "source": [
    "sns.countplot(dataset1.book_table)"
   ]
  },
  {
   "cell_type": "code",
   "execution_count": 48,
   "metadata": {},
   "outputs": [],
   "source": [
    "from sklearn.preprocessing import LabelEncoder\n",
    "encoder=LabelEncoder()"
   ]
  },
  {
   "cell_type": "code",
   "execution_count": 49,
   "metadata": {},
   "outputs": [
    {
     "name": "stdout",
     "output_type": "stream",
     "text": [
      "<class 'pandas.core.frame.DataFrame'>\n",
      "Int64Index: 41125 entries, 0 to 41316\n",
      "Data columns (total 13 columns):\n",
      "address           41125 non-null object\n",
      "name              41125 non-null object\n",
      "online_order      41125 non-null object\n",
      "book_table        41125 non-null object\n",
      "votes             41125 non-null int64\n",
      "location          41125 non-null object\n",
      "rest_type         41125 non-null object\n",
      "cuisines          41125 non-null object\n",
      "costfor2people    41125 non-null float64\n",
      "menu_item         41125 non-null object\n",
      "listtype          41125 non-null object\n",
      "citylist          41125 non-null object\n",
      "rates             41125 non-null float64\n",
      "dtypes: float64(2), int64(1), object(10)\n",
      "memory usage: 5.6+ MB\n"
     ]
    }
   ],
   "source": [
    "dataset1.info()"
   ]
  },
  {
   "cell_type": "code",
   "execution_count": 50,
   "metadata": {},
   "outputs": [],
   "source": [
    "dataset1['book_table']=encoder.fit_transform(dataset1['book_table'])"
   ]
  },
  {
   "cell_type": "code",
   "execution_count": 51,
   "metadata": {},
   "outputs": [],
   "source": [
    "dataset1['location']=encoder.fit_transform(dataset1['location'])"
   ]
  },
  {
   "cell_type": "code",
   "execution_count": 52,
   "metadata": {},
   "outputs": [],
   "source": [
    "dataset1['citylist']  =encoder.fit_transform(dataset1['citylist'])"
   ]
  },
  {
   "cell_type": "code",
   "execution_count": 53,
   "metadata": {},
   "outputs": [],
   "source": [
    "dataset1['listtype'] =encoder.fit_transform(dataset1['listtype'])"
   ]
  },
  {
   "cell_type": "code",
   "execution_count": 54,
   "metadata": {},
   "outputs": [],
   "source": [
    "dataset1['cuisines'] =encoder.fit_transform(dataset1['cuisines'])"
   ]
  },
  {
   "cell_type": "code",
   "execution_count": 55,
   "metadata": {},
   "outputs": [],
   "source": [
    "dataset1['rest_type']=encoder.fit_transform(dataset1['rest_type'])"
   ]
  },
  {
   "cell_type": "code",
   "execution_count": 56,
   "metadata": {},
   "outputs": [],
   "source": [
    "dataset1['online_order']=encoder.fit_transform(dataset1['online_order'])"
   ]
  },
  {
   "cell_type": "code",
   "execution_count": 57,
   "metadata": {},
   "outputs": [],
   "source": [
    "dataset1['address']=encoder.fit_transform(dataset1['address'])"
   ]
  },
  {
   "cell_type": "code",
   "execution_count": 58,
   "metadata": {},
   "outputs": [],
   "source": [
    "dataset1['name']=encoder.fit_transform(dataset1['name'])"
   ]
  },
  {
   "cell_type": "code",
   "execution_count": 59,
   "metadata": {},
   "outputs": [],
   "source": [
    "dataset1['menu_item']=encoder.fit_transform(dataset1['menu_item'])"
   ]
  },
  {
   "cell_type": "code",
   "execution_count": 60,
   "metadata": {},
   "outputs": [
    {
     "data": {
      "text/html": [
       "<div>\n",
       "<style scoped>\n",
       "    .dataframe tbody tr th:only-of-type {\n",
       "        vertical-align: middle;\n",
       "    }\n",
       "\n",
       "    .dataframe tbody tr th {\n",
       "        vertical-align: top;\n",
       "    }\n",
       "\n",
       "    .dataframe thead th {\n",
       "        text-align: right;\n",
       "    }\n",
       "</style>\n",
       "<table border=\"1\" class=\"dataframe\">\n",
       "  <thead>\n",
       "    <tr style=\"text-align: right;\">\n",
       "      <th></th>\n",
       "      <th>address</th>\n",
       "      <th>name</th>\n",
       "      <th>online_order</th>\n",
       "      <th>book_table</th>\n",
       "      <th>votes</th>\n",
       "      <th>location</th>\n",
       "      <th>rest_type</th>\n",
       "      <th>cuisines</th>\n",
       "      <th>costfor2people</th>\n",
       "      <th>menu_item</th>\n",
       "      <th>listtype</th>\n",
       "      <th>citylist</th>\n",
       "      <th>rates</th>\n",
       "    </tr>\n",
       "  </thead>\n",
       "  <tbody>\n",
       "    <tr>\n",
       "      <th>0</th>\n",
       "      <td>2125</td>\n",
       "      <td>271</td>\n",
       "      <td>1</td>\n",
       "      <td>0</td>\n",
       "      <td>13</td>\n",
       "      <td>71</td>\n",
       "      <td>78</td>\n",
       "      <td>2154</td>\n",
       "      <td>350.0</td>\n",
       "      <td>700</td>\n",
       "      <td>2</td>\n",
       "      <td>27</td>\n",
       "      <td>3.1</td>\n",
       "    </tr>\n",
       "    <tr>\n",
       "      <th>1</th>\n",
       "      <td>3665</td>\n",
       "      <td>7456</td>\n",
       "      <td>0</td>\n",
       "      <td>1</td>\n",
       "      <td>5015</td>\n",
       "      <td>45</td>\n",
       "      <td>33</td>\n",
       "      <td>1209</td>\n",
       "      <td>1800.0</td>\n",
       "      <td>7626</td>\n",
       "      <td>4</td>\n",
       "      <td>18</td>\n",
       "      <td>4.6</td>\n",
       "    </tr>\n",
       "    <tr>\n",
       "      <th>2</th>\n",
       "      <td>3529</td>\n",
       "      <td>781</td>\n",
       "      <td>0</td>\n",
       "      <td>0</td>\n",
       "      <td>6</td>\n",
       "      <td>0</td>\n",
       "      <td>78</td>\n",
       "      <td>1580</td>\n",
       "      <td>250.0</td>\n",
       "      <td>7626</td>\n",
       "      <td>4</td>\n",
       "      <td>16</td>\n",
       "      <td>3.4</td>\n",
       "    </tr>\n",
       "    <tr>\n",
       "      <th>3</th>\n",
       "      <td>2734</td>\n",
       "      <td>7001</td>\n",
       "      <td>0</td>\n",
       "      <td>0</td>\n",
       "      <td>699</td>\n",
       "      <td>51</td>\n",
       "      <td>27</td>\n",
       "      <td>2615</td>\n",
       "      <td>1500.0</td>\n",
       "      <td>7626</td>\n",
       "      <td>4</td>\n",
       "      <td>27</td>\n",
       "      <td>4.3</td>\n",
       "    </tr>\n",
       "    <tr>\n",
       "      <th>4</th>\n",
       "      <td>5684</td>\n",
       "      <td>6861</td>\n",
       "      <td>1</td>\n",
       "      <td>0</td>\n",
       "      <td>129</td>\n",
       "      <td>48</td>\n",
       "      <td>14</td>\n",
       "      <td>1552</td>\n",
       "      <td>150.0</td>\n",
       "      <td>3027</td>\n",
       "      <td>2</td>\n",
       "      <td>18</td>\n",
       "      <td>3.7</td>\n",
       "    </tr>\n",
       "  </tbody>\n",
       "</table>\n",
       "</div>"
      ],
      "text/plain": [
       "   address  name  online_order  book_table  votes  location  rest_type  \\\n",
       "0     2125   271             1           0     13        71         78   \n",
       "1     3665  7456             0           1   5015        45         33   \n",
       "2     3529   781             0           0      6         0         78   \n",
       "3     2734  7001             0           0    699        51         27   \n",
       "4     5684  6861             1           0    129        48         14   \n",
       "\n",
       "   cuisines  costfor2people  menu_item  listtype  citylist  rates  \n",
       "0      2154           350.0        700         2        27    3.1  \n",
       "1      1209          1800.0       7626         4        18    4.6  \n",
       "2      1580           250.0       7626         4        16    3.4  \n",
       "3      2615          1500.0       7626         4        27    4.3  \n",
       "4      1552           150.0       3027         2        18    3.7  "
      ]
     },
     "execution_count": 60,
     "metadata": {},
     "output_type": "execute_result"
    }
   ],
   "source": [
    "dataset1.head()"
   ]
  },
  {
   "cell_type": "code",
   "execution_count": 61,
   "metadata": {},
   "outputs": [
    {
     "name": "stdout",
     "output_type": "stream",
     "text": [
      "<class 'pandas.core.frame.DataFrame'>\n",
      "Int64Index: 41125 entries, 0 to 41316\n",
      "Data columns (total 13 columns):\n",
      "address           41125 non-null int32\n",
      "name              41125 non-null int32\n",
      "online_order      41125 non-null int32\n",
      "book_table        41125 non-null int32\n",
      "votes             41125 non-null int64\n",
      "location          41125 non-null int32\n",
      "rest_type         41125 non-null int32\n",
      "cuisines          41125 non-null int32\n",
      "costfor2people    41125 non-null float64\n",
      "menu_item         41125 non-null int32\n",
      "listtype          41125 non-null int32\n",
      "citylist          41125 non-null int32\n",
      "rates             41125 non-null float64\n",
      "dtypes: float64(2), int32(10), int64(1)\n",
      "memory usage: 4.1 MB\n"
     ]
    }
   ],
   "source": [
    "dataset1.info()"
   ]
  },
  {
   "cell_type": "code",
   "execution_count": 62,
   "metadata": {},
   "outputs": [
    {
     "data": {
      "text/html": [
       "<div>\n",
       "<style scoped>\n",
       "    .dataframe tbody tr th:only-of-type {\n",
       "        vertical-align: middle;\n",
       "    }\n",
       "\n",
       "    .dataframe tbody tr th {\n",
       "        vertical-align: top;\n",
       "    }\n",
       "\n",
       "    .dataframe thead th {\n",
       "        text-align: right;\n",
       "    }\n",
       "</style>\n",
       "<table border=\"1\" class=\"dataframe\">\n",
       "  <thead>\n",
       "    <tr style=\"text-align: right;\">\n",
       "      <th></th>\n",
       "      <th>address</th>\n",
       "      <th>name</th>\n",
       "      <th>online_order</th>\n",
       "      <th>book_table</th>\n",
       "      <th>votes</th>\n",
       "      <th>location</th>\n",
       "      <th>rest_type</th>\n",
       "      <th>cuisines</th>\n",
       "      <th>costfor2people</th>\n",
       "      <th>menu_item</th>\n",
       "      <th>listtype</th>\n",
       "      <th>citylist</th>\n",
       "      <th>rates</th>\n",
       "    </tr>\n",
       "  </thead>\n",
       "  <tbody>\n",
       "    <tr>\n",
       "      <th>address</th>\n",
       "      <td>1.000000</td>\n",
       "      <td>0.038470</td>\n",
       "      <td>-0.086195</td>\n",
       "      <td>-0.002542</td>\n",
       "      <td>-0.067948</td>\n",
       "      <td>0.096822</td>\n",
       "      <td>0.009346</td>\n",
       "      <td>0.029499</td>\n",
       "      <td>0.080515</td>\n",
       "      <td>0.039487</td>\n",
       "      <td>0.012353</td>\n",
       "      <td>0.052752</td>\n",
       "      <td>-0.035062</td>\n",
       "    </tr>\n",
       "    <tr>\n",
       "      <th>name</th>\n",
       "      <td>0.038470</td>\n",
       "      <td>1.000000</td>\n",
       "      <td>0.009712</td>\n",
       "      <td>0.010210</td>\n",
       "      <td>0.004598</td>\n",
       "      <td>0.013889</td>\n",
       "      <td>0.011945</td>\n",
       "      <td>0.087781</td>\n",
       "      <td>0.030758</td>\n",
       "      <td>0.001738</td>\n",
       "      <td>0.017326</td>\n",
       "      <td>-0.003115</td>\n",
       "      <td>0.009580</td>\n",
       "    </tr>\n",
       "    <tr>\n",
       "      <th>online_order</th>\n",
       "      <td>-0.086195</td>\n",
       "      <td>0.009712</td>\n",
       "      <td>1.000000</td>\n",
       "      <td>-0.000625</td>\n",
       "      <td>0.033219</td>\n",
       "      <td>-0.057794</td>\n",
       "      <td>-0.022154</td>\n",
       "      <td>-0.025166</td>\n",
       "      <td>-0.083550</td>\n",
       "      <td>-0.387517</td>\n",
       "      <td>-0.228469</td>\n",
       "      <td>-0.052324</td>\n",
       "      <td>0.059646</td>\n",
       "    </tr>\n",
       "    <tr>\n",
       "      <th>book_table</th>\n",
       "      <td>-0.002542</td>\n",
       "      <td>0.010210</td>\n",
       "      <td>-0.000625</td>\n",
       "      <td>1.000000</td>\n",
       "      <td>0.399405</td>\n",
       "      <td>0.079262</td>\n",
       "      <td>-0.240173</td>\n",
       "      <td>-0.019774</td>\n",
       "      <td>0.619581</td>\n",
       "      <td>0.019154</td>\n",
       "      <td>0.104086</td>\n",
       "      <td>0.022412</td>\n",
       "      <td>0.414842</td>\n",
       "    </tr>\n",
       "    <tr>\n",
       "      <th>votes</th>\n",
       "      <td>-0.067948</td>\n",
       "      <td>0.004598</td>\n",
       "      <td>0.033219</td>\n",
       "      <td>0.399405</td>\n",
       "      <td>1.000000</td>\n",
       "      <td>0.043115</td>\n",
       "      <td>-0.154925</td>\n",
       "      <td>-0.046652</td>\n",
       "      <td>0.377808</td>\n",
       "      <td>-0.017368</td>\n",
       "      <td>0.062843</td>\n",
       "      <td>0.022397</td>\n",
       "      <td>0.427881</td>\n",
       "    </tr>\n",
       "    <tr>\n",
       "      <th>location</th>\n",
       "      <td>0.096822</td>\n",
       "      <td>0.013889</td>\n",
       "      <td>-0.057794</td>\n",
       "      <td>0.079262</td>\n",
       "      <td>0.043115</td>\n",
       "      <td>1.000000</td>\n",
       "      <td>-0.046765</td>\n",
       "      <td>0.000539</td>\n",
       "      <td>0.146071</td>\n",
       "      <td>0.022381</td>\n",
       "      <td>0.041011</td>\n",
       "      <td>0.315840</td>\n",
       "      <td>0.079452</td>\n",
       "    </tr>\n",
       "    <tr>\n",
       "      <th>rest_type</th>\n",
       "      <td>0.009346</td>\n",
       "      <td>0.011945</td>\n",
       "      <td>-0.022154</td>\n",
       "      <td>-0.240173</td>\n",
       "      <td>-0.154925</td>\n",
       "      <td>-0.046765</td>\n",
       "      <td>1.000000</td>\n",
       "      <td>0.291582</td>\n",
       "      <td>-0.349362</td>\n",
       "      <td>0.008142</td>\n",
       "      <td>0.046368</td>\n",
       "      <td>0.001433</td>\n",
       "      <td>-0.196442</td>\n",
       "    </tr>\n",
       "    <tr>\n",
       "      <th>cuisines</th>\n",
       "      <td>0.029499</td>\n",
       "      <td>0.087781</td>\n",
       "      <td>-0.025166</td>\n",
       "      <td>-0.019774</td>\n",
       "      <td>-0.046652</td>\n",
       "      <td>0.000539</td>\n",
       "      <td>0.291582</td>\n",
       "      <td>1.000000</td>\n",
       "      <td>-0.065211</td>\n",
       "      <td>0.038094</td>\n",
       "      <td>0.066414</td>\n",
       "      <td>-0.009116</td>\n",
       "      <td>-0.075512</td>\n",
       "    </tr>\n",
       "    <tr>\n",
       "      <th>costfor2people</th>\n",
       "      <td>0.080515</td>\n",
       "      <td>0.030758</td>\n",
       "      <td>-0.083550</td>\n",
       "      <td>0.619581</td>\n",
       "      <td>0.377808</td>\n",
       "      <td>0.146071</td>\n",
       "      <td>-0.349362</td>\n",
       "      <td>-0.065211</td>\n",
       "      <td>1.000000</td>\n",
       "      <td>0.040466</td>\n",
       "      <td>0.169299</td>\n",
       "      <td>0.047143</td>\n",
       "      <td>0.365506</td>\n",
       "    </tr>\n",
       "    <tr>\n",
       "      <th>menu_item</th>\n",
       "      <td>0.039487</td>\n",
       "      <td>0.001738</td>\n",
       "      <td>-0.387517</td>\n",
       "      <td>0.019154</td>\n",
       "      <td>-0.017368</td>\n",
       "      <td>0.022381</td>\n",
       "      <td>0.008142</td>\n",
       "      <td>0.038094</td>\n",
       "      <td>0.040466</td>\n",
       "      <td>1.000000</td>\n",
       "      <td>0.108492</td>\n",
       "      <td>-0.029735</td>\n",
       "      <td>-0.043399</td>\n",
       "    </tr>\n",
       "    <tr>\n",
       "      <th>listtype</th>\n",
       "      <td>0.012353</td>\n",
       "      <td>0.017326</td>\n",
       "      <td>-0.228469</td>\n",
       "      <td>0.104086</td>\n",
       "      <td>0.062843</td>\n",
       "      <td>0.041011</td>\n",
       "      <td>0.046368</td>\n",
       "      <td>0.066414</td>\n",
       "      <td>0.169299</td>\n",
       "      <td>0.108492</td>\n",
       "      <td>1.000000</td>\n",
       "      <td>0.028790</td>\n",
       "      <td>0.031359</td>\n",
       "    </tr>\n",
       "    <tr>\n",
       "      <th>citylist</th>\n",
       "      <td>0.052752</td>\n",
       "      <td>-0.003115</td>\n",
       "      <td>-0.052324</td>\n",
       "      <td>0.022412</td>\n",
       "      <td>0.022397</td>\n",
       "      <td>0.315840</td>\n",
       "      <td>0.001433</td>\n",
       "      <td>-0.009116</td>\n",
       "      <td>0.047143</td>\n",
       "      <td>-0.029735</td>\n",
       "      <td>0.028790</td>\n",
       "      <td>1.000000</td>\n",
       "      <td>0.015738</td>\n",
       "    </tr>\n",
       "    <tr>\n",
       "      <th>rates</th>\n",
       "      <td>-0.035062</td>\n",
       "      <td>0.009580</td>\n",
       "      <td>0.059646</td>\n",
       "      <td>0.414842</td>\n",
       "      <td>0.427881</td>\n",
       "      <td>0.079452</td>\n",
       "      <td>-0.196442</td>\n",
       "      <td>-0.075512</td>\n",
       "      <td>0.365506</td>\n",
       "      <td>-0.043399</td>\n",
       "      <td>0.031359</td>\n",
       "      <td>0.015738</td>\n",
       "      <td>1.000000</td>\n",
       "    </tr>\n",
       "  </tbody>\n",
       "</table>\n",
       "</div>"
      ],
      "text/plain": [
       "                 address      name  online_order  book_table     votes  \\\n",
       "address         1.000000  0.038470     -0.086195   -0.002542 -0.067948   \n",
       "name            0.038470  1.000000      0.009712    0.010210  0.004598   \n",
       "online_order   -0.086195  0.009712      1.000000   -0.000625  0.033219   \n",
       "book_table     -0.002542  0.010210     -0.000625    1.000000  0.399405   \n",
       "votes          -0.067948  0.004598      0.033219    0.399405  1.000000   \n",
       "location        0.096822  0.013889     -0.057794    0.079262  0.043115   \n",
       "rest_type       0.009346  0.011945     -0.022154   -0.240173 -0.154925   \n",
       "cuisines        0.029499  0.087781     -0.025166   -0.019774 -0.046652   \n",
       "costfor2people  0.080515  0.030758     -0.083550    0.619581  0.377808   \n",
       "menu_item       0.039487  0.001738     -0.387517    0.019154 -0.017368   \n",
       "listtype        0.012353  0.017326     -0.228469    0.104086  0.062843   \n",
       "citylist        0.052752 -0.003115     -0.052324    0.022412  0.022397   \n",
       "rates          -0.035062  0.009580      0.059646    0.414842  0.427881   \n",
       "\n",
       "                location  rest_type  cuisines  costfor2people  menu_item  \\\n",
       "address         0.096822   0.009346  0.029499        0.080515   0.039487   \n",
       "name            0.013889   0.011945  0.087781        0.030758   0.001738   \n",
       "online_order   -0.057794  -0.022154 -0.025166       -0.083550  -0.387517   \n",
       "book_table      0.079262  -0.240173 -0.019774        0.619581   0.019154   \n",
       "votes           0.043115  -0.154925 -0.046652        0.377808  -0.017368   \n",
       "location        1.000000  -0.046765  0.000539        0.146071   0.022381   \n",
       "rest_type      -0.046765   1.000000  0.291582       -0.349362   0.008142   \n",
       "cuisines        0.000539   0.291582  1.000000       -0.065211   0.038094   \n",
       "costfor2people  0.146071  -0.349362 -0.065211        1.000000   0.040466   \n",
       "menu_item       0.022381   0.008142  0.038094        0.040466   1.000000   \n",
       "listtype        0.041011   0.046368  0.066414        0.169299   0.108492   \n",
       "citylist        0.315840   0.001433 -0.009116        0.047143  -0.029735   \n",
       "rates           0.079452  -0.196442 -0.075512        0.365506  -0.043399   \n",
       "\n",
       "                listtype  citylist     rates  \n",
       "address         0.012353  0.052752 -0.035062  \n",
       "name            0.017326 -0.003115  0.009580  \n",
       "online_order   -0.228469 -0.052324  0.059646  \n",
       "book_table      0.104086  0.022412  0.414842  \n",
       "votes           0.062843  0.022397  0.427881  \n",
       "location        0.041011  0.315840  0.079452  \n",
       "rest_type       0.046368  0.001433 -0.196442  \n",
       "cuisines        0.066414 -0.009116 -0.075512  \n",
       "costfor2people  0.169299  0.047143  0.365506  \n",
       "menu_item       0.108492 -0.029735 -0.043399  \n",
       "listtype        1.000000  0.028790  0.031359  \n",
       "citylist        0.028790  1.000000  0.015738  \n",
       "rates           0.031359  0.015738  1.000000  "
      ]
     },
     "execution_count": 62,
     "metadata": {},
     "output_type": "execute_result"
    }
   ],
   "source": [
    "corr=dataset1.corr()\n",
    "corr"
   ]
  },
  {
   "cell_type": "code",
   "execution_count": 63,
   "metadata": {},
   "outputs": [
    {
     "data": {
      "text/plain": [
       "<matplotlib.axes._subplots.AxesSubplot at 0x28a6aff5c50>"
      ]
     },
     "execution_count": 63,
     "metadata": {},
     "output_type": "execute_result"
    },
    {
     "data": {
      "image/png": "[encoded data removed]",
      "text/plain": [
       "<Figure size 720x360 with 2 Axes>"
      ]
     },
     "metadata": {
      "needs_background": "light"
     },
     "output_type": "display_data"
    }
   ],
   "source": [
    "plt.figure(figsize=(10,5))\n",
    "sns.heatmap(corr,annot=True)"
   ]
  },
  {
   "cell_type": "markdown",
   "metadata": {},
   "source": [
    "# Standarising the data to bring down the magnitude for ease of computation"
   ]
  },
  {
   "cell_type": "code",
   "execution_count": 64,
   "metadata": {},
   "outputs": [],
   "source": [
    "from sklearn.preprocessing import StandardScaler\n",
    "sc=StandardScaler()\n",
    "from sklearn.model_selection import train_test_split\n"
   ]
  },
  {
   "cell_type": "code",
   "execution_count": 65,
   "metadata": {},
   "outputs": [],
   "source": [
    "X=dataset1.drop(axis=1,columns=['rates','address', 'name','listtype','citylist'])"
   ]
  },
  {
   "cell_type": "code",
   "execution_count": 66,
   "metadata": {},
   "outputs": [],
   "source": [
    "y=dataset1.rates"
   ]
  },
  {
   "cell_type": "code",
   "execution_count": 67,
   "metadata": {},
   "outputs": [
    {
     "data": {
      "text/html": [
       "<div>\n",
       "<style scoped>\n",
       "    .dataframe tbody tr th:only-of-type {\n",
       "        vertical-align: middle;\n",
       "    }\n",
       "\n",
       "    .dataframe tbody tr th {\n",
       "        vertical-align: top;\n",
       "    }\n",
       "\n",
       "    .dataframe thead th {\n",
       "        text-align: right;\n",
       "    }\n",
       "</style>\n",
       "<table border=\"1\" class=\"dataframe\">\n",
       "  <thead>\n",
       "    <tr style=\"text-align: right;\">\n",
       "      <th></th>\n",
       "      <th>online_order</th>\n",
       "      <th>book_table</th>\n",
       "      <th>votes</th>\n",
       "      <th>location</th>\n",
       "      <th>rest_type</th>\n",
       "      <th>cuisines</th>\n",
       "      <th>costfor2people</th>\n",
       "      <th>menu_item</th>\n",
       "    </tr>\n",
       "  </thead>\n",
       "  <tbody>\n",
       "    <tr>\n",
       "      <th>0</th>\n",
       "      <td>1</td>\n",
       "      <td>0</td>\n",
       "      <td>13</td>\n",
       "      <td>71</td>\n",
       "      <td>78</td>\n",
       "      <td>2154</td>\n",
       "      <td>350.0</td>\n",
       "      <td>700</td>\n",
       "    </tr>\n",
       "    <tr>\n",
       "      <th>1</th>\n",
       "      <td>0</td>\n",
       "      <td>1</td>\n",
       "      <td>5015</td>\n",
       "      <td>45</td>\n",
       "      <td>33</td>\n",
       "      <td>1209</td>\n",
       "      <td>1800.0</td>\n",
       "      <td>7626</td>\n",
       "    </tr>\n",
       "    <tr>\n",
       "      <th>2</th>\n",
       "      <td>0</td>\n",
       "      <td>0</td>\n",
       "      <td>6</td>\n",
       "      <td>0</td>\n",
       "      <td>78</td>\n",
       "      <td>1580</td>\n",
       "      <td>250.0</td>\n",
       "      <td>7626</td>\n",
       "    </tr>\n",
       "    <tr>\n",
       "      <th>3</th>\n",
       "      <td>0</td>\n",
       "      <td>0</td>\n",
       "      <td>699</td>\n",
       "      <td>51</td>\n",
       "      <td>27</td>\n",
       "      <td>2615</td>\n",
       "      <td>1500.0</td>\n",
       "      <td>7626</td>\n",
       "    </tr>\n",
       "    <tr>\n",
       "      <th>4</th>\n",
       "      <td>1</td>\n",
       "      <td>0</td>\n",
       "      <td>129</td>\n",
       "      <td>48</td>\n",
       "      <td>14</td>\n",
       "      <td>1552</td>\n",
       "      <td>150.0</td>\n",
       "      <td>3027</td>\n",
       "    </tr>\n",
       "  </tbody>\n",
       "</table>\n",
       "</div>"
      ],
      "text/plain": [
       "   online_order  book_table  votes  location  rest_type  cuisines  \\\n",
       "0             1           0     13        71         78      2154   \n",
       "1             0           1   5015        45         33      1209   \n",
       "2             0           0      6         0         78      1580   \n",
       "3             0           0    699        51         27      2615   \n",
       "4             1           0    129        48         14      1552   \n",
       "\n",
       "   costfor2people  menu_item  \n",
       "0           350.0        700  \n",
       "1          1800.0       7626  \n",
       "2           250.0       7626  \n",
       "3          1500.0       7626  \n",
       "4           150.0       3027  "
      ]
     },
     "execution_count": 67,
     "metadata": {},
     "output_type": "execute_result"
    }
   ],
   "source": [
    "X.head()"
   ]
  },
  {
   "cell_type": "code",
   "execution_count": 68,
   "metadata": {},
   "outputs": [],
   "source": [
    "#Dividing the data into training and test set"
   ]
  },
  {
   "cell_type": "code",
   "execution_count": 69,
   "metadata": {},
   "outputs": [],
   "source": [
    "X_train,X_test,y_train,y_test=train_test_split(X,y,test_size=.1,random_state=353)"
   ]
  },
  {
   "cell_type": "code",
   "execution_count": 70,
   "metadata": {},
   "outputs": [
    {
     "data": {
      "text/plain": [
       "((37012, 8), (37012,), (4113, 8), (4113,))"
      ]
     },
     "execution_count": 70,
     "metadata": {},
     "output_type": "execute_result"
    }
   ],
   "source": [
    "X_train.shape,y_train.shape,X_test.shape,y_test.shape"
   ]
  },
  {
   "cell_type": "code",
   "execution_count": 71,
   "metadata": {},
   "outputs": [],
   "source": [
    "X_train=sc.fit_transform(X_train)\n",
    "X_test=sc.fit_transform(X_test)"
   ]
  },
  {
   "cell_type": "code",
   "execution_count": 72,
   "metadata": {},
   "outputs": [
    {
     "data": {
      "text/plain": [
       "array([[-1.20281249, -0.38460465, -0.32336881, ..., -1.48186544,\n",
       "        -0.59041491,  0.46046208],\n",
       "       [ 0.83138478,  2.60007257,  1.74365991, ...,  0.21359796,\n",
       "         1.49067268,  0.46046208],\n",
       "       [-1.20281249, -0.38460465, -0.32807463, ...,  1.37231999,\n",
       "        -0.93726284,  0.46046208],\n",
       "       ...,\n",
       "       [-1.20281249, -0.38460465, -0.34101561, ...,  1.33236406,\n",
       "        -0.127951  ,  0.46046208],\n",
       "       [ 0.83138478, -0.38460465, -0.25513451, ...,  0.7809722 ,\n",
       "        -0.35918295, -1.57910484],\n",
       "       [ 0.83138478, -0.38460465, -0.31395718, ..., -0.26054577,\n",
       "        -0.47479893, -2.21588802]])"
      ]
     },
     "execution_count": 72,
     "metadata": {},
     "output_type": "execute_result"
    }
   ],
   "source": [
    "X_test"
   ]
  },
  {
   "cell_type": "code",
   "execution_count": 73,
   "metadata": {},
   "outputs": [],
   "source": [
    "from sklearn.linear_model import LinearRegression"
   ]
  },
  {
   "cell_type": "code",
   "execution_count": 74,
   "metadata": {},
   "outputs": [],
   "source": [
    "regression=LinearRegression()"
   ]
  },
  {
   "cell_type": "code",
   "execution_count": 75,
   "metadata": {},
   "outputs": [
    {
     "data": {
      "text/plain": [
       "LinearRegression(copy_X=True, fit_intercept=True, n_jobs=None, normalize=False)"
      ]
     },
     "execution_count": 75,
     "metadata": {},
     "output_type": "execute_result"
    }
   ],
   "source": [
    "regression.fit(X_train,y_train)"
   ]
  },
  {
   "cell_type": "code",
   "execution_count": 76,
   "metadata": {},
   "outputs": [],
   "source": [
    "y_pred=regression.predict(X_test)"
   ]
  },
  {
   "cell_type": "code",
   "execution_count": 77,
   "metadata": {},
   "outputs": [],
   "source": [
    "from sklearn.metrics import r2_score"
   ]
  },
  {
   "cell_type": "code",
   "execution_count": 78,
   "metadata": {},
   "outputs": [
    {
     "data": {
      "text/plain": [
       "0.27645570736243297"
      ]
     },
     "execution_count": 78,
     "metadata": {},
     "output_type": "execute_result"
    }
   ],
   "source": [
    "r2_score(y_test,y_pred)"
   ]
  },
  {
   "cell_type": "code",
   "execution_count": 79,
   "metadata": {},
   "outputs": [],
   "source": [
    "from sklearn.tree import DecisionTreeRegressor"
   ]
  },
  {
   "cell_type": "code",
   "execution_count": 80,
   "metadata": {},
   "outputs": [],
   "source": [
    "X_train,X_test,y_train,y_test=train_test_split(X,y,test_size=0.3,random_state=353)"
   ]
  },
  {
   "cell_type": "code",
   "execution_count": 81,
   "metadata": {},
   "outputs": [],
   "source": [
    "regressor2=DecisionTreeRegressor(min_samples_leaf=.0001)"
   ]
  },
  {
   "cell_type": "code",
   "execution_count": 82,
   "metadata": {},
   "outputs": [],
   "source": [
    "regressor2.fit(X_train,y_train)\n",
    "y_predict=regressor2.predict(X_test)"
   ]
  },
  {
   "cell_type": "code",
   "execution_count": 83,
   "metadata": {},
   "outputs": [],
   "source": [
    "from sklearn.metrics import r2_score"
   ]
  },
  {
   "cell_type": "code",
   "execution_count": 84,
   "metadata": {},
   "outputs": [
    {
     "data": {
      "text/plain": [
       "0.7721873141244119"
      ]
     },
     "execution_count": 84,
     "metadata": {},
     "output_type": "execute_result"
    }
   ],
   "source": [
    "r2_score(y_test,y_predict)"
   ]
  },
  {
   "cell_type": "code",
   "execution_count": 85,
   "metadata": {},
   "outputs": [],
   "source": [
    "from sklearn.ensemble import RandomForestRegressor\n",
    "RForest=RandomForestRegressor(n_estimators=5,random_state=0,min_samples_leaf=.0001)"
   ]
  },
  {
   "cell_type": "code",
   "execution_count": 86,
   "metadata": {},
   "outputs": [],
   "source": [
    "RForest.fit(X_train,y_train)\n",
    "y_predict=RForest.predict(X_test)\n"
   ]
  },
  {
   "cell_type": "code",
   "execution_count": 87,
   "metadata": {},
   "outputs": [
    {
     "data": {
      "text/plain": [
       "0.8058022256280383"
      ]
     },
     "execution_count": 87,
     "metadata": {},
     "output_type": "execute_result"
    }
   ],
   "source": [
    "from sklearn.metrics import r2_score\n",
    "r2_score(y_test,y_predict)"
   ]
  },
  {
   "cell_type": "markdown",
   "metadata": {},
   "source": [
    "# Hyper parameter tuning"
   ]
  },
  {
   "cell_type": "code",
   "execution_count": 88,
   "metadata": {},
   "outputs": [],
   "source": [
    "from sklearn.ensemble import RandomForestRegressor\n",
    "rf=RandomForestRegressor()\n",
    "from sklearn.model_selection import RandomizedSearchCV\n",
    "n_estimators=[int(x) for x in np.linspace(start=100,stop=1200,num=12)]\n",
    "max_features=['auto','sqrt']\n",
    "max_depth=[int(x) for x in np.linspace(start=5,stop=30,num=6)]\n",
    "min_samples_split=[2,5,10,15,100] "
   ]
  },
  {
   "cell_type": "code",
   "execution_count": 89,
   "metadata": {},
   "outputs": [],
   "source": [
    "params={'n_estimators':n_estimators,'max_features':max_features,'max_depth':max_depth,'min_samples_split':min_samples_split}"
   ]
  },
  {
   "cell_type": "code",
   "execution_count": 90,
   "metadata": {},
   "outputs": [],
   "source": [
    "random=RandomizedSearchCV(rf,params,n_iter=50,scoring='neg_mean_squared_error',cv=5,verbose=2)"
   ]
  },
  {
   "cell_type": "code",
   "execution_count": 91,
   "metadata": {
    "scrolled": false
   },
   "outputs": [
    {
     "name": "stdout",
     "output_type": "stream",
     "text": [
      "Fitting 5 folds for each of 50 candidates, totalling 250 fits\n",
      "[CV] n_estimators=100, min_samples_split=15, max_features=auto, max_depth=25 \n"
     ]
    },
    {
     "name": "stderr",
     "output_type": "stream",
     "text": [
      "[Parallel(n_jobs=1)]: Using backend SequentialBackend with 1 concurrent workers.\n"
     ]
    },
    {
     "name": "stdout",
     "output_type": "stream",
     "text": [
      "[CV]  n_estimators=100, min_samples_split=15, max_features=auto, max_depth=25, total=   7.9s\n",
      "[CV] n_estimators=100, min_samples_split=15, max_features=auto, max_depth=25 \n"
     ]
    },
    {
     "name": "stderr",
     "output_type": "stream",
     "text": [
      "[Parallel(n_jobs=1)]: Done   1 out of   1 | elapsed:    7.8s remaining:    0.0s\n"
     ]
    },
    {
     "name": "stdout",
     "output_type": "stream",
     "text": [
      "[CV]  n_estimators=100, min_samples_split=15, max_features=auto, max_depth=25, total=   7.2s\n",
      "[CV] n_estimators=100, min_samples_split=15, max_features=auto, max_depth=25 \n",
      "[CV]  n_estimators=100, min_samples_split=15, max_features=auto, max_depth=25, total=   7.1s\n",
      "[CV] n_estimators=100, min_samples_split=15, max_features=auto, max_depth=25 \n",
      "[CV]  n_estimators=100, min_samples_split=15, max_features=auto, max_depth=25, total=   7.0s\n",
      "[CV] n_estimators=100, min_samples_split=15, max_features=auto, max_depth=25 \n",
      "[CV]  n_estimators=100, min_samples_split=15, max_features=auto, max_depth=25, total=   7.0s\n",
      "[CV] n_estimators=900, min_samples_split=2, max_features=sqrt, max_depth=20 \n",
      "[CV]  n_estimators=900, min_samples_split=2, max_features=sqrt, max_depth=20, total=  29.0s\n",
      "[CV] n_estimators=900, min_samples_split=2, max_features=sqrt, max_depth=20 \n",
      "[CV]  n_estimators=900, min_samples_split=2, max_features=sqrt, max_depth=20, total=  28.4s\n",
      "[CV] n_estimators=900, min_samples_split=2, max_features=sqrt, max_depth=20 \n",
      "[CV]  n_estimators=900, min_samples_split=2, max_features=sqrt, max_depth=20, total=  28.7s\n",
      "[CV] n_estimators=900, min_samples_split=2, max_features=sqrt, max_depth=20 \n",
      "[CV]  n_estimators=900, min_samples_split=2, max_features=sqrt, max_depth=20, total=  29.1s\n",
      "[CV] n_estimators=900, min_samples_split=2, max_features=sqrt, max_depth=20 \n",
      "[CV]  n_estimators=900, min_samples_split=2, max_features=sqrt, max_depth=20, total=  28.5s\n",
      "[CV] n_estimators=1100, min_samples_split=10, max_features=auto, max_depth=5 \n",
      "[CV]  n_estimators=1100, min_samples_split=10, max_features=auto, max_depth=5, total=  32.5s\n",
      "[CV] n_estimators=1100, min_samples_split=10, max_features=auto, max_depth=5 \n",
      "[CV]  n_estimators=1100, min_samples_split=10, max_features=auto, max_depth=5, total=  31.5s\n",
      "[CV] n_estimators=1100, min_samples_split=10, max_features=auto, max_depth=5 \n",
      "[CV]  n_estimators=1100, min_samples_split=10, max_features=auto, max_depth=5, total=  31.7s\n",
      "[CV] n_estimators=1100, min_samples_split=10, max_features=auto, max_depth=5 \n",
      "[CV]  n_estimators=1100, min_samples_split=10, max_features=auto, max_depth=5, total=  31.9s\n",
      "[CV] n_estimators=1100, min_samples_split=10, max_features=auto, max_depth=5 \n",
      "[CV]  n_estimators=1100, min_samples_split=10, max_features=auto, max_depth=5, total=  31.8s\n",
      "[CV] n_estimators=1200, min_samples_split=5, max_features=auto, max_depth=5 \n",
      "[CV]  n_estimators=1200, min_samples_split=5, max_features=auto, max_depth=5, total=  34.9s\n",
      "[CV] n_estimators=1200, min_samples_split=5, max_features=auto, max_depth=5 \n",
      "[CV]  n_estimators=1200, min_samples_split=5, max_features=auto, max_depth=5, total=  34.5s\n",
      "[CV] n_estimators=1200, min_samples_split=5, max_features=auto, max_depth=5 \n",
      "[CV]  n_estimators=1200, min_samples_split=5, max_features=auto, max_depth=5, total=  35.3s\n",
      "[CV] n_estimators=1200, min_samples_split=5, max_features=auto, max_depth=5 \n",
      "[CV]  n_estimators=1200, min_samples_split=5, max_features=auto, max_depth=5, total=  34.8s\n",
      "[CV] n_estimators=1200, min_samples_split=5, max_features=auto, max_depth=5 \n",
      "[CV]  n_estimators=1200, min_samples_split=5, max_features=auto, max_depth=5, total=  34.8s\n",
      "[CV] n_estimators=700, min_samples_split=10, max_features=sqrt, max_depth=30 \n",
      "[CV]  n_estimators=700, min_samples_split=10, max_features=sqrt, max_depth=30, total=  18.9s\n",
      "[CV] n_estimators=700, min_samples_split=10, max_features=sqrt, max_depth=30 \n",
      "[CV]  n_estimators=700, min_samples_split=10, max_features=sqrt, max_depth=30, total=  18.7s\n",
      "[CV] n_estimators=700, min_samples_split=10, max_features=sqrt, max_depth=30 \n",
      "[CV]  n_estimators=700, min_samples_split=10, max_features=sqrt, max_depth=30, total=  18.9s\n",
      "[CV] n_estimators=700, min_samples_split=10, max_features=sqrt, max_depth=30 \n",
      "[CV]  n_estimators=700, min_samples_split=10, max_features=sqrt, max_depth=30, total=  18.7s\n",
      "[CV] n_estimators=700, min_samples_split=10, max_features=sqrt, max_depth=30 \n",
      "[CV]  n_estimators=700, min_samples_split=10, max_features=sqrt, max_depth=30, total=  19.3s\n",
      "[CV] n_estimators=100, min_samples_split=10, max_features=auto, max_depth=20 \n",
      "[CV]  n_estimators=100, min_samples_split=10, max_features=auto, max_depth=20, total=   7.3s\n",
      "[CV] n_estimators=100, min_samples_split=10, max_features=auto, max_depth=20 \n",
      "[CV]  n_estimators=100, min_samples_split=10, max_features=auto, max_depth=20, total=   7.2s\n",
      "[CV] n_estimators=100, min_samples_split=10, max_features=auto, max_depth=20 \n",
      "[CV]  n_estimators=100, min_samples_split=10, max_features=auto, max_depth=20, total=   7.2s\n",
      "[CV] n_estimators=100, min_samples_split=10, max_features=auto, max_depth=20 \n",
      "[CV]  n_estimators=100, min_samples_split=10, max_features=auto, max_depth=20, total=   7.2s\n",
      "[CV] n_estimators=100, min_samples_split=10, max_features=auto, max_depth=20 \n",
      "[CV]  n_estimators=100, min_samples_split=10, max_features=auto, max_depth=20, total=   7.3s\n",
      "[CV] n_estimators=800, min_samples_split=15, max_features=auto, max_depth=5 \n",
      "[CV]  n_estimators=800, min_samples_split=15, max_features=auto, max_depth=5, total=  23.2s\n",
      "[CV] n_estimators=800, min_samples_split=15, max_features=auto, max_depth=5 \n",
      "[CV]  n_estimators=800, min_samples_split=15, max_features=auto, max_depth=5, total=  22.9s\n",
      "[CV] n_estimators=800, min_samples_split=15, max_features=auto, max_depth=5 \n",
      "[CV]  n_estimators=800, min_samples_split=15, max_features=auto, max_depth=5, total=  23.2s\n",
      "[CV] n_estimators=800, min_samples_split=15, max_features=auto, max_depth=5 \n",
      "[CV]  n_estimators=800, min_samples_split=15, max_features=auto, max_depth=5, total=  23.2s\n",
      "[CV] n_estimators=800, min_samples_split=15, max_features=auto, max_depth=5 \n",
      "[CV]  n_estimators=800, min_samples_split=15, max_features=auto, max_depth=5, total=  23.2s\n",
      "[CV] n_estimators=700, min_samples_split=100, max_features=auto, max_depth=25 \n",
      "[CV]  n_estimators=700, min_samples_split=100, max_features=auto, max_depth=25, total=  37.3s\n",
      "[CV] n_estimators=700, min_samples_split=100, max_features=auto, max_depth=25 \n",
      "[CV]  n_estimators=700, min_samples_split=100, max_features=auto, max_depth=25, total=  36.3s\n",
      "[CV] n_estimators=700, min_samples_split=100, max_features=auto, max_depth=25 \n",
      "[CV]  n_estimators=700, min_samples_split=100, max_features=auto, max_depth=25, total=  37.1s\n",
      "[CV] n_estimators=700, min_samples_split=100, max_features=auto, max_depth=25 \n",
      "[CV]  n_estimators=700, min_samples_split=100, max_features=auto, max_depth=25, total=  37.0s\n",
      "[CV] n_estimators=700, min_samples_split=100, max_features=auto, max_depth=25 \n",
      "[CV]  n_estimators=700, min_samples_split=100, max_features=auto, max_depth=25, total=  37.4s\n",
      "[CV] n_estimators=900, min_samples_split=15, max_features=auto, max_depth=30 \n",
      "[CV]  n_estimators=900, min_samples_split=15, max_features=auto, max_depth=30, total= 1.0min\n",
      "[CV] n_estimators=900, min_samples_split=15, max_features=auto, max_depth=30 \n",
      "[CV]  n_estimators=900, min_samples_split=15, max_features=auto, max_depth=30, total= 1.0min\n",
      "[CV] n_estimators=900, min_samples_split=15, max_features=auto, max_depth=30 \n",
      "[CV]  n_estimators=900, min_samples_split=15, max_features=auto, max_depth=30, total= 1.1min\n",
      "[CV] n_estimators=900, min_samples_split=15, max_features=auto, max_depth=30 \n",
      "[CV]  n_estimators=900, min_samples_split=15, max_features=auto, max_depth=30, total= 1.0min\n",
      "[CV] n_estimators=900, min_samples_split=15, max_features=auto, max_depth=30 \n",
      "[CV]  n_estimators=900, min_samples_split=15, max_features=auto, max_depth=30, total= 1.1min\n",
      "[CV] n_estimators=400, min_samples_split=2, max_features=auto, max_depth=25 \n",
      "[CV]  n_estimators=400, min_samples_split=2, max_features=auto, max_depth=25, total=  34.5s\n",
      "[CV] n_estimators=400, min_samples_split=2, max_features=auto, max_depth=25 \n",
      "[CV]  n_estimators=400, min_samples_split=2, max_features=auto, max_depth=25, total=  32.8s\n",
      "[CV] n_estimators=400, min_samples_split=2, max_features=auto, max_depth=25 \n",
      "[CV]  n_estimators=400, min_samples_split=2, max_features=auto, max_depth=25, total=  33.1s\n",
      "[CV] n_estimators=400, min_samples_split=2, max_features=auto, max_depth=25 \n",
      "[CV]  n_estimators=400, min_samples_split=2, max_features=auto, max_depth=25, total=  33.3s\n",
      "[CV] n_estimators=400, min_samples_split=2, max_features=auto, max_depth=25 \n",
      "[CV]  n_estimators=400, min_samples_split=2, max_features=auto, max_depth=25, total=  33.2s\n",
      "[CV] n_estimators=300, min_samples_split=100, max_features=sqrt, max_depth=10 \n",
      "[CV]  n_estimators=300, min_samples_split=100, max_features=sqrt, max_depth=10, total=   4.8s\n",
      "[CV] n_estimators=300, min_samples_split=100, max_features=sqrt, max_depth=10 \n",
      "[CV]  n_estimators=300, min_samples_split=100, max_features=sqrt, max_depth=10, total=   4.8s\n",
      "[CV] n_estimators=300, min_samples_split=100, max_features=sqrt, max_depth=10 \n",
      "[CV]  n_estimators=300, min_samples_split=100, max_features=sqrt, max_depth=10, total=   4.8s\n",
      "[CV] n_estimators=300, min_samples_split=100, max_features=sqrt, max_depth=10 \n",
      "[CV]  n_estimators=300, min_samples_split=100, max_features=sqrt, max_depth=10, total=   4.7s\n",
      "[CV] n_estimators=300, min_samples_split=100, max_features=sqrt, max_depth=10 \n",
      "[CV]  n_estimators=300, min_samples_split=100, max_features=sqrt, max_depth=10, total=   4.8s\n",
      "[CV] n_estimators=900, min_samples_split=5, max_features=sqrt, max_depth=20 \n",
      "[CV]  n_estimators=900, min_samples_split=5, max_features=sqrt, max_depth=20, total=  26.2s\n",
      "[CV] n_estimators=900, min_samples_split=5, max_features=sqrt, max_depth=20 \n",
      "[CV]  n_estimators=900, min_samples_split=5, max_features=sqrt, max_depth=20, total=  26.0s\n",
      "[CV] n_estimators=900, min_samples_split=5, max_features=sqrt, max_depth=20 \n",
      "[CV]  n_estimators=900, min_samples_split=5, max_features=sqrt, max_depth=20, total=  25.9s\n",
      "[CV] n_estimators=900, min_samples_split=5, max_features=sqrt, max_depth=20 \n",
      "[CV]  n_estimators=900, min_samples_split=5, max_features=sqrt, max_depth=20, total=  26.2s\n",
      "[CV] n_estimators=900, min_samples_split=5, max_features=sqrt, max_depth=20 \n",
      "[CV]  n_estimators=900, min_samples_split=5, max_features=sqrt, max_depth=20, total=  26.1s\n",
      "[CV] n_estimators=1200, min_samples_split=2, max_features=auto, max_depth=15 \n",
      "[CV]  n_estimators=1200, min_samples_split=2, max_features=auto, max_depth=15, total= 1.4min\n",
      "[CV] n_estimators=1200, min_samples_split=2, max_features=auto, max_depth=15 \n",
      "[CV]  n_estimators=1200, min_samples_split=2, max_features=auto, max_depth=15, total= 1.4min\n",
      "[CV] n_estimators=1200, min_samples_split=2, max_features=auto, max_depth=15 \n",
      "[CV]  n_estimators=1200, min_samples_split=2, max_features=auto, max_depth=15, total= 1.4min\n",
      "[CV] n_estimators=1200, min_samples_split=2, max_features=auto, max_depth=15 \n",
      "[CV]  n_estimators=1200, min_samples_split=2, max_features=auto, max_depth=15, total= 1.4min\n",
      "[CV] n_estimators=1200, min_samples_split=2, max_features=auto, max_depth=15 \n",
      "[CV]  n_estimators=1200, min_samples_split=2, max_features=auto, max_depth=15, total= 1.4min\n",
      "[CV] n_estimators=1200, min_samples_split=100, max_features=auto, max_depth=15 \n",
      "[CV]  n_estimators=1200, min_samples_split=100, max_features=auto, max_depth=15, total= 1.1min\n",
      "[CV] n_estimators=1200, min_samples_split=100, max_features=auto, max_depth=15 \n",
      "[CV]  n_estimators=1200, min_samples_split=100, max_features=auto, max_depth=15, total= 1.0min\n",
      "[CV] n_estimators=1200, min_samples_split=100, max_features=auto, max_depth=15 \n",
      "[CV]  n_estimators=1200, min_samples_split=100, max_features=auto, max_depth=15, total= 1.0min\n",
      "[CV] n_estimators=1200, min_samples_split=100, max_features=auto, max_depth=15 \n",
      "[CV]  n_estimators=1200, min_samples_split=100, max_features=auto, max_depth=15, total= 1.1min\n",
      "[CV] n_estimators=1200, min_samples_split=100, max_features=auto, max_depth=15 \n",
      "[CV]  n_estimators=1200, min_samples_split=100, max_features=auto, max_depth=15, total= 1.2min\n",
      "[CV] n_estimators=600, min_samples_split=5, max_features=auto, max_depth=25 \n",
      "[CV]  n_estimators=600, min_samples_split=5, max_features=auto, max_depth=25, total=  49.3s\n",
      "[CV] n_estimators=600, min_samples_split=5, max_features=auto, max_depth=25 \n",
      "[CV]  n_estimators=600, min_samples_split=5, max_features=auto, max_depth=25, total=  48.4s\n",
      "[CV] n_estimators=600, min_samples_split=5, max_features=auto, max_depth=25 \n",
      "[CV]  n_estimators=600, min_samples_split=5, max_features=auto, max_depth=25, total=  51.4s\n",
      "[CV] n_estimators=600, min_samples_split=5, max_features=auto, max_depth=25 \n",
      "[CV]  n_estimators=600, min_samples_split=5, max_features=auto, max_depth=25, total=  51.5s\n",
      "[CV] n_estimators=600, min_samples_split=5, max_features=auto, max_depth=25 \n",
      "[CV]  n_estimators=600, min_samples_split=5, max_features=auto, max_depth=25, total=  47.9s\n",
      "[CV] n_estimators=500, min_samples_split=5, max_features=sqrt, max_depth=15 \n",
      "[CV]  n_estimators=500, min_samples_split=5, max_features=sqrt, max_depth=15, total=  12.3s\n",
      "[CV] n_estimators=500, min_samples_split=5, max_features=sqrt, max_depth=15 \n",
      "[CV]  n_estimators=500, min_samples_split=5, max_features=sqrt, max_depth=15, total=  12.2s\n",
      "[CV] n_estimators=500, min_samples_split=5, max_features=sqrt, max_depth=15 \n",
      "[CV]  n_estimators=500, min_samples_split=5, max_features=sqrt, max_depth=15, total=  12.1s\n",
      "[CV] n_estimators=500, min_samples_split=5, max_features=sqrt, max_depth=15 \n",
      "[CV]  n_estimators=500, min_samples_split=5, max_features=sqrt, max_depth=15, total=  12.1s\n",
      "[CV] n_estimators=500, min_samples_split=5, max_features=sqrt, max_depth=15 \n",
      "[CV]  n_estimators=500, min_samples_split=5, max_features=sqrt, max_depth=15, total=  12.1s\n",
      "[CV] n_estimators=400, min_samples_split=2, max_features=auto, max_depth=15 \n",
      "[CV]  n_estimators=400, min_samples_split=2, max_features=auto, max_depth=15, total=  28.2s\n",
      "[CV] n_estimators=400, min_samples_split=2, max_features=auto, max_depth=15 \n",
      "[CV]  n_estimators=400, min_samples_split=2, max_features=auto, max_depth=15, total=  27.5s\n",
      "[CV] n_estimators=400, min_samples_split=2, max_features=auto, max_depth=15 \n",
      "[CV]  n_estimators=400, min_samples_split=2, max_features=auto, max_depth=15, total=  27.8s\n",
      "[CV] n_estimators=400, min_samples_split=2, max_features=auto, max_depth=15 \n",
      "[CV]  n_estimators=400, min_samples_split=2, max_features=auto, max_depth=15, total=  27.8s\n",
      "[CV] n_estimators=400, min_samples_split=2, max_features=auto, max_depth=15 \n",
      "[CV]  n_estimators=400, min_samples_split=2, max_features=auto, max_depth=15, total=  28.0s\n",
      "[CV] n_estimators=400, min_samples_split=15, max_features=auto, max_depth=25 \n",
      "[CV]  n_estimators=400, min_samples_split=15, max_features=auto, max_depth=25, total=  28.0s\n",
      "[CV] n_estimators=400, min_samples_split=15, max_features=auto, max_depth=25 \n",
      "[CV]  n_estimators=400, min_samples_split=15, max_features=auto, max_depth=25, total=  27.7s\n",
      "[CV] n_estimators=400, min_samples_split=15, max_features=auto, max_depth=25 \n",
      "[CV]  n_estimators=400, min_samples_split=15, max_features=auto, max_depth=25, total=  28.2s\n",
      "[CV] n_estimators=400, min_samples_split=15, max_features=auto, max_depth=25 \n",
      "[CV]  n_estimators=400, min_samples_split=15, max_features=auto, max_depth=25, total=  27.7s\n",
      "[CV] n_estimators=400, min_samples_split=15, max_features=auto, max_depth=25 \n",
      "[CV]  n_estimators=400, min_samples_split=15, max_features=auto, max_depth=25, total=  28.2s\n",
      "[CV] n_estimators=500, min_samples_split=5, max_features=auto, max_depth=30 \n",
      "[CV]  n_estimators=500, min_samples_split=5, max_features=auto, max_depth=30, total=  40.1s\n",
      "[CV] n_estimators=500, min_samples_split=5, max_features=auto, max_depth=30 \n",
      "[CV]  n_estimators=500, min_samples_split=5, max_features=auto, max_depth=30, total=  39.1s\n",
      "[CV] n_estimators=500, min_samples_split=5, max_features=auto, max_depth=30 \n",
      "[CV]  n_estimators=500, min_samples_split=5, max_features=auto, max_depth=30, total=  39.9s\n",
      "[CV] n_estimators=500, min_samples_split=5, max_features=auto, max_depth=30 \n",
      "[CV]  n_estimators=500, min_samples_split=5, max_features=auto, max_depth=30, total=  40.2s\n",
      "[CV] n_estimators=500, min_samples_split=5, max_features=auto, max_depth=30 \n",
      "[CV]  n_estimators=500, min_samples_split=5, max_features=auto, max_depth=30, total=  39.9s\n",
      "[CV] n_estimators=400, min_samples_split=10, max_features=auto, max_depth=5 \n",
      "[CV]  n_estimators=400, min_samples_split=10, max_features=auto, max_depth=5, total=  11.6s\n",
      "[CV] n_estimators=400, min_samples_split=10, max_features=auto, max_depth=5 \n",
      "[CV]  n_estimators=400, min_samples_split=10, max_features=auto, max_depth=5, total=  11.6s\n",
      "[CV] n_estimators=400, min_samples_split=10, max_features=auto, max_depth=5 \n",
      "[CV]  n_estimators=400, min_samples_split=10, max_features=auto, max_depth=5, total=  11.6s\n",
      "[CV] n_estimators=400, min_samples_split=10, max_features=auto, max_depth=5 \n",
      "[CV]  n_estimators=400, min_samples_split=10, max_features=auto, max_depth=5, total=  11.6s\n",
      "[CV] n_estimators=400, min_samples_split=10, max_features=auto, max_depth=5 \n",
      "[CV]  n_estimators=400, min_samples_split=10, max_features=auto, max_depth=5, total=  11.7s\n",
      "[CV] n_estimators=900, min_samples_split=10, max_features=auto, max_depth=30 \n",
      "[CV]  n_estimators=900, min_samples_split=10, max_features=auto, max_depth=30, total= 1.1min\n",
      "[CV] n_estimators=900, min_samples_split=10, max_features=auto, max_depth=30 \n",
      "[CV]  n_estimators=900, min_samples_split=10, max_features=auto, max_depth=30, total= 1.1min\n",
      "[CV] n_estimators=900, min_samples_split=10, max_features=auto, max_depth=30 \n",
      "[CV]  n_estimators=900, min_samples_split=10, max_features=auto, max_depth=30, total= 1.1min\n",
      "[CV] n_estimators=900, min_samples_split=10, max_features=auto, max_depth=30 \n",
      "[CV]  n_estimators=900, min_samples_split=10, max_features=auto, max_depth=30, total= 1.1min\n",
      "[CV] n_estimators=900, min_samples_split=10, max_features=auto, max_depth=30 \n",
      "[CV]  n_estimators=900, min_samples_split=10, max_features=auto, max_depth=30, total= 1.1min\n",
      "[CV] n_estimators=1100, min_samples_split=5, max_features=auto, max_depth=10 \n",
      "[CV]  n_estimators=1100, min_samples_split=5, max_features=auto, max_depth=10, total=  56.4s\n",
      "[CV] n_estimators=1100, min_samples_split=5, max_features=auto, max_depth=10 \n",
      "[CV]  n_estimators=1100, min_samples_split=5, max_features=auto, max_depth=10, total=  55.3s\n",
      "[CV] n_estimators=1100, min_samples_split=5, max_features=auto, max_depth=10 \n",
      "[CV]  n_estimators=1100, min_samples_split=5, max_features=auto, max_depth=10, total=  55.6s\n",
      "[CV] n_estimators=1100, min_samples_split=5, max_features=auto, max_depth=10 \n",
      "[CV]  n_estimators=1100, min_samples_split=5, max_features=auto, max_depth=10, total=  55.8s\n",
      "[CV] n_estimators=1100, min_samples_split=5, max_features=auto, max_depth=10 \n",
      "[CV]  n_estimators=1100, min_samples_split=5, max_features=auto, max_depth=10, total=  56.6s\n",
      "[CV] n_estimators=200, min_samples_split=10, max_features=sqrt, max_depth=5 \n",
      "[CV]  n_estimators=200, min_samples_split=10, max_features=sqrt, max_depth=5, total=   2.0s\n",
      "[CV] n_estimators=200, min_samples_split=10, max_features=sqrt, max_depth=5 \n",
      "[CV]  n_estimators=200, min_samples_split=10, max_features=sqrt, max_depth=5, total=   2.0s\n",
      "[CV] n_estimators=200, min_samples_split=10, max_features=sqrt, max_depth=5 \n",
      "[CV]  n_estimators=200, min_samples_split=10, max_features=sqrt, max_depth=5, total=   2.0s\n",
      "[CV] n_estimators=200, min_samples_split=10, max_features=sqrt, max_depth=5 \n",
      "[CV]  n_estimators=200, min_samples_split=10, max_features=sqrt, max_depth=5, total=   2.0s\n",
      "[CV] n_estimators=200, min_samples_split=10, max_features=sqrt, max_depth=5 \n",
      "[CV]  n_estimators=200, min_samples_split=10, max_features=sqrt, max_depth=5, total=   2.0s\n",
      "[CV] n_estimators=400, min_samples_split=5, max_features=auto, max_depth=25 \n",
      "[CV]  n_estimators=400, min_samples_split=5, max_features=auto, max_depth=25, total=  31.8s\n",
      "[CV] n_estimators=400, min_samples_split=5, max_features=auto, max_depth=25 \n",
      "[CV]  n_estimators=400, min_samples_split=5, max_features=auto, max_depth=25, total=  31.2s\n",
      "[CV] n_estimators=400, min_samples_split=5, max_features=auto, max_depth=25 \n",
      "[CV]  n_estimators=400, min_samples_split=5, max_features=auto, max_depth=25, total=  31.4s\n",
      "[CV] n_estimators=400, min_samples_split=5, max_features=auto, max_depth=25 \n",
      "[CV]  n_estimators=400, min_samples_split=5, max_features=auto, max_depth=25, total=  31.4s\n",
      "[CV] n_estimators=400, min_samples_split=5, max_features=auto, max_depth=25 \n",
      "[CV]  n_estimators=400, min_samples_split=5, max_features=auto, max_depth=25, total=  31.9s\n",
      "[CV] n_estimators=700, min_samples_split=15, max_features=auto, max_depth=25 \n",
      "[CV]  n_estimators=700, min_samples_split=15, max_features=auto, max_depth=25, total=  49.0s\n",
      "[CV] n_estimators=700, min_samples_split=15, max_features=auto, max_depth=25 \n",
      "[CV]  n_estimators=700, min_samples_split=15, max_features=auto, max_depth=25, total=  48.7s\n",
      "[CV] n_estimators=700, min_samples_split=15, max_features=auto, max_depth=25 \n",
      "[CV]  n_estimators=700, min_samples_split=15, max_features=auto, max_depth=25, total=  48.8s\n",
      "[CV] n_estimators=700, min_samples_split=15, max_features=auto, max_depth=25 \n",
      "[CV]  n_estimators=700, min_samples_split=15, max_features=auto, max_depth=25, total=  48.6s\n",
      "[CV] n_estimators=700, min_samples_split=15, max_features=auto, max_depth=25 \n",
      "[CV]  n_estimators=700, min_samples_split=15, max_features=auto, max_depth=25, total=  49.3s\n",
      "[CV] n_estimators=400, min_samples_split=100, max_features=auto, max_depth=15 \n",
      "[CV]  n_estimators=400, min_samples_split=100, max_features=auto, max_depth=15, total=  21.1s\n",
      "[CV] n_estimators=400, min_samples_split=100, max_features=auto, max_depth=15 \n",
      "[CV]  n_estimators=400, min_samples_split=100, max_features=auto, max_depth=15, total=  20.5s\n",
      "[CV] n_estimators=400, min_samples_split=100, max_features=auto, max_depth=15 \n",
      "[CV]  n_estimators=400, min_samples_split=100, max_features=auto, max_depth=15, total=  20.8s\n",
      "[CV] n_estimators=400, min_samples_split=100, max_features=auto, max_depth=15 \n",
      "[CV]  n_estimators=400, min_samples_split=100, max_features=auto, max_depth=15, total=  20.7s\n",
      "[CV] n_estimators=400, min_samples_split=100, max_features=auto, max_depth=15 \n",
      "[CV]  n_estimators=400, min_samples_split=100, max_features=auto, max_depth=15, total=  21.2s\n",
      "[CV] n_estimators=400, min_samples_split=10, max_features=sqrt, max_depth=25 \n",
      "[CV]  n_estimators=400, min_samples_split=10, max_features=sqrt, max_depth=25, total=  10.7s\n",
      "[CV] n_estimators=400, min_samples_split=10, max_features=sqrt, max_depth=25 \n",
      "[CV]  n_estimators=400, min_samples_split=10, max_features=sqrt, max_depth=25, total=  10.7s\n",
      "[CV] n_estimators=400, min_samples_split=10, max_features=sqrt, max_depth=25 \n",
      "[CV]  n_estimators=400, min_samples_split=10, max_features=sqrt, max_depth=25, total=  10.7s\n",
      "[CV] n_estimators=400, min_samples_split=10, max_features=sqrt, max_depth=25 \n",
      "[CV]  n_estimators=400, min_samples_split=10, max_features=sqrt, max_depth=25, total=  11.9s\n",
      "[CV] n_estimators=400, min_samples_split=10, max_features=sqrt, max_depth=25 \n",
      "[CV]  n_estimators=400, min_samples_split=10, max_features=sqrt, max_depth=25, total=  10.9s\n",
      "[CV] n_estimators=700, min_samples_split=2, max_features=auto, max_depth=5 \n",
      "[CV]  n_estimators=700, min_samples_split=2, max_features=auto, max_depth=5, total=  20.3s\n",
      "[CV] n_estimators=700, min_samples_split=2, max_features=auto, max_depth=5 \n",
      "[CV]  n_estimators=700, min_samples_split=2, max_features=auto, max_depth=5, total=  20.1s\n",
      "[CV] n_estimators=700, min_samples_split=2, max_features=auto, max_depth=5 \n",
      "[CV]  n_estimators=700, min_samples_split=2, max_features=auto, max_depth=5, total=  20.3s\n",
      "[CV] n_estimators=700, min_samples_split=2, max_features=auto, max_depth=5 \n",
      "[CV]  n_estimators=700, min_samples_split=2, max_features=auto, max_depth=5, total=  20.2s\n",
      "[CV] n_estimators=700, min_samples_split=2, max_features=auto, max_depth=5 \n",
      "[CV]  n_estimators=700, min_samples_split=2, max_features=auto, max_depth=5, total=  20.3s\n",
      "[CV] n_estimators=300, min_samples_split=100, max_features=sqrt, max_depth=30 \n",
      "[CV]  n_estimators=300, min_samples_split=100, max_features=sqrt, max_depth=30, total=   5.6s\n",
      "[CV] n_estimators=300, min_samples_split=100, max_features=sqrt, max_depth=30 \n",
      "[CV]  n_estimators=300, min_samples_split=100, max_features=sqrt, max_depth=30, total=   5.5s\n",
      "[CV] n_estimators=300, min_samples_split=100, max_features=sqrt, max_depth=30 \n",
      "[CV]  n_estimators=300, min_samples_split=100, max_features=sqrt, max_depth=30, total=   5.6s\n",
      "[CV] n_estimators=300, min_samples_split=100, max_features=sqrt, max_depth=30 \n",
      "[CV]  n_estimators=300, min_samples_split=100, max_features=sqrt, max_depth=30, total=   5.5s\n",
      "[CV] n_estimators=300, min_samples_split=100, max_features=sqrt, max_depth=30 \n",
      "[CV]  n_estimators=300, min_samples_split=100, max_features=sqrt, max_depth=30, total=   5.7s\n",
      "[CV] n_estimators=100, min_samples_split=100, max_features=auto, max_depth=15 \n",
      "[CV]  n_estimators=100, min_samples_split=100, max_features=auto, max_depth=15, total=   5.3s\n",
      "[CV] n_estimators=100, min_samples_split=100, max_features=auto, max_depth=15 \n",
      "[CV]  n_estimators=100, min_samples_split=100, max_features=auto, max_depth=15, total=   5.2s\n",
      "[CV] n_estimators=100, min_samples_split=100, max_features=auto, max_depth=15 \n",
      "[CV]  n_estimators=100, min_samples_split=100, max_features=auto, max_depth=15, total=   5.2s\n",
      "[CV] n_estimators=100, min_samples_split=100, max_features=auto, max_depth=15 \n",
      "[CV]  n_estimators=100, min_samples_split=100, max_features=auto, max_depth=15, total=   5.2s\n",
      "[CV] n_estimators=100, min_samples_split=100, max_features=auto, max_depth=15 \n",
      "[CV]  n_estimators=100, min_samples_split=100, max_features=auto, max_depth=15, total=   5.3s\n",
      "[CV] n_estimators=100, min_samples_split=10, max_features=auto, max_depth=15 \n",
      "[CV]  n_estimators=100, min_samples_split=10, max_features=auto, max_depth=15, total=   6.7s\n",
      "[CV] n_estimators=100, min_samples_split=10, max_features=auto, max_depth=15 \n",
      "[CV]  n_estimators=100, min_samples_split=10, max_features=auto, max_depth=15, total=   6.5s\n",
      "[CV] n_estimators=100, min_samples_split=10, max_features=auto, max_depth=15 \n",
      "[CV]  n_estimators=100, min_samples_split=10, max_features=auto, max_depth=15, total=   6.6s\n",
      "[CV] n_estimators=100, min_samples_split=10, max_features=auto, max_depth=15 \n",
      "[CV]  n_estimators=100, min_samples_split=10, max_features=auto, max_depth=15, total=   6.6s\n",
      "[CV] n_estimators=100, min_samples_split=10, max_features=auto, max_depth=15 \n",
      "[CV]  n_estimators=100, min_samples_split=10, max_features=auto, max_depth=15, total=   6.7s\n",
      "[CV] n_estimators=300, min_samples_split=2, max_features=auto, max_depth=10 \n",
      "[CV]  n_estimators=300, min_samples_split=2, max_features=auto, max_depth=10, total=  15.4s\n",
      "[CV] n_estimators=300, min_samples_split=2, max_features=auto, max_depth=10 \n",
      "[CV]  n_estimators=300, min_samples_split=2, max_features=auto, max_depth=10, total=  15.1s\n",
      "[CV] n_estimators=300, min_samples_split=2, max_features=auto, max_depth=10 \n",
      "[CV]  n_estimators=300, min_samples_split=2, max_features=auto, max_depth=10, total=  15.2s\n",
      "[CV] n_estimators=300, min_samples_split=2, max_features=auto, max_depth=10 \n",
      "[CV]  n_estimators=300, min_samples_split=2, max_features=auto, max_depth=10, total=  15.3s\n",
      "[CV] n_estimators=300, min_samples_split=2, max_features=auto, max_depth=10 \n",
      "[CV]  n_estimators=300, min_samples_split=2, max_features=auto, max_depth=10, total=  15.5s\n",
      "[CV] n_estimators=1000, min_samples_split=10, max_features=auto, max_depth=15 \n",
      "[CV]  n_estimators=1000, min_samples_split=10, max_features=auto, max_depth=15, total= 1.1min\n",
      "[CV] n_estimators=1000, min_samples_split=10, max_features=auto, max_depth=15 \n",
      "[CV]  n_estimators=1000, min_samples_split=10, max_features=auto, max_depth=15, total= 1.1min\n",
      "[CV] n_estimators=1000, min_samples_split=10, max_features=auto, max_depth=15 \n",
      "[CV]  n_estimators=1000, min_samples_split=10, max_features=auto, max_depth=15, total= 1.1min\n",
      "[CV] n_estimators=1000, min_samples_split=10, max_features=auto, max_depth=15 \n",
      "[CV]  n_estimators=1000, min_samples_split=10, max_features=auto, max_depth=15, total= 1.1min\n",
      "[CV] n_estimators=1000, min_samples_split=10, max_features=auto, max_depth=15 \n",
      "[CV]  n_estimators=1000, min_samples_split=10, max_features=auto, max_depth=15, total= 1.1min\n",
      "[CV] n_estimators=500, min_samples_split=2, max_features=auto, max_depth=10 \n",
      "[CV]  n_estimators=500, min_samples_split=2, max_features=auto, max_depth=10, total=  25.6s\n",
      "[CV] n_estimators=500, min_samples_split=2, max_features=auto, max_depth=10 \n",
      "[CV]  n_estimators=500, min_samples_split=2, max_features=auto, max_depth=10, total=  25.2s\n",
      "[CV] n_estimators=500, min_samples_split=2, max_features=auto, max_depth=10 \n",
      "[CV]  n_estimators=500, min_samples_split=2, max_features=auto, max_depth=10, total=  25.2s\n",
      "[CV] n_estimators=500, min_samples_split=2, max_features=auto, max_depth=10 \n",
      "[CV]  n_estimators=500, min_samples_split=2, max_features=auto, max_depth=10, total=  25.4s\n",
      "[CV] n_estimators=500, min_samples_split=2, max_features=auto, max_depth=10 \n",
      "[CV]  n_estimators=500, min_samples_split=2, max_features=auto, max_depth=10, total=  25.6s\n",
      "[CV] n_estimators=300, min_samples_split=100, max_features=sqrt, max_depth=5 \n",
      "[CV]  n_estimators=300, min_samples_split=100, max_features=sqrt, max_depth=5, total=   3.0s\n",
      "[CV] n_estimators=300, min_samples_split=100, max_features=sqrt, max_depth=5 \n",
      "[CV]  n_estimators=300, min_samples_split=100, max_features=sqrt, max_depth=5, total=   2.9s\n",
      "[CV] n_estimators=300, min_samples_split=100, max_features=sqrt, max_depth=5 \n",
      "[CV]  n_estimators=300, min_samples_split=100, max_features=sqrt, max_depth=5, total=   2.9s\n",
      "[CV] n_estimators=300, min_samples_split=100, max_features=sqrt, max_depth=5 \n",
      "[CV]  n_estimators=300, min_samples_split=100, max_features=sqrt, max_depth=5, total=   2.9s\n",
      "[CV] n_estimators=300, min_samples_split=100, max_features=sqrt, max_depth=5 \n",
      "[CV]  n_estimators=300, min_samples_split=100, max_features=sqrt, max_depth=5, total=   2.9s\n",
      "[CV] n_estimators=900, min_samples_split=5, max_features=sqrt, max_depth=25 \n",
      "[CV]  n_estimators=900, min_samples_split=5, max_features=sqrt, max_depth=25, total=  27.5s\n",
      "[CV] n_estimators=900, min_samples_split=5, max_features=sqrt, max_depth=25 \n",
      "[CV]  n_estimators=900, min_samples_split=5, max_features=sqrt, max_depth=25, total=  27.5s\n",
      "[CV] n_estimators=900, min_samples_split=5, max_features=sqrt, max_depth=25 \n",
      "[CV]  n_estimators=900, min_samples_split=5, max_features=sqrt, max_depth=25, total=  27.3s\n",
      "[CV] n_estimators=900, min_samples_split=5, max_features=sqrt, max_depth=25 \n",
      "[CV]  n_estimators=900, min_samples_split=5, max_features=sqrt, max_depth=25, total=  28.5s\n",
      "[CV] n_estimators=900, min_samples_split=5, max_features=sqrt, max_depth=25 \n",
      "[CV]  n_estimators=900, min_samples_split=5, max_features=sqrt, max_depth=25, total=  28.7s\n",
      "[CV] n_estimators=400, min_samples_split=15, max_features=sqrt, max_depth=25 \n",
      "[CV]  n_estimators=400, min_samples_split=15, max_features=sqrt, max_depth=25, total=  10.4s\n",
      "[CV] n_estimators=400, min_samples_split=15, max_features=sqrt, max_depth=25 \n",
      "[CV]  n_estimators=400, min_samples_split=15, max_features=sqrt, max_depth=25, total=  10.0s\n",
      "[CV] n_estimators=400, min_samples_split=15, max_features=sqrt, max_depth=25 \n",
      "[CV]  n_estimators=400, min_samples_split=15, max_features=sqrt, max_depth=25, total=  10.0s\n",
      "[CV] n_estimators=400, min_samples_split=15, max_features=sqrt, max_depth=25 \n",
      "[CV]  n_estimators=400, min_samples_split=15, max_features=sqrt, max_depth=25, total=  10.0s\n",
      "[CV] n_estimators=400, min_samples_split=15, max_features=sqrt, max_depth=25 \n",
      "[CV]  n_estimators=400, min_samples_split=15, max_features=sqrt, max_depth=25, total=  10.2s\n",
      "[CV] n_estimators=400, min_samples_split=10, max_features=auto, max_depth=10 \n",
      "[CV]  n_estimators=400, min_samples_split=10, max_features=auto, max_depth=10, total=  21.5s\n",
      "[CV] n_estimators=400, min_samples_split=10, max_features=auto, max_depth=10 \n",
      "[CV]  n_estimators=400, min_samples_split=10, max_features=auto, max_depth=10, total=  20.1s\n",
      "[CV] n_estimators=400, min_samples_split=10, max_features=auto, max_depth=10 \n",
      "[CV]  n_estimators=400, min_samples_split=10, max_features=auto, max_depth=10, total=  20.2s\n",
      "[CV] n_estimators=400, min_samples_split=10, max_features=auto, max_depth=10 \n",
      "[CV]  n_estimators=400, min_samples_split=10, max_features=auto, max_depth=10, total=  20.3s\n",
      "[CV] n_estimators=400, min_samples_split=10, max_features=auto, max_depth=10 \n",
      "[CV]  n_estimators=400, min_samples_split=10, max_features=auto, max_depth=10, total=  20.7s\n",
      "[CV] n_estimators=1100, min_samples_split=5, max_features=sqrt, max_depth=20 \n",
      "[CV]  n_estimators=1100, min_samples_split=5, max_features=sqrt, max_depth=20, total=  32.5s\n",
      "[CV] n_estimators=1100, min_samples_split=5, max_features=sqrt, max_depth=20 \n",
      "[CV]  n_estimators=1100, min_samples_split=5, max_features=sqrt, max_depth=20, total=  32.0s\n",
      "[CV] n_estimators=1100, min_samples_split=5, max_features=sqrt, max_depth=20 \n",
      "[CV]  n_estimators=1100, min_samples_split=5, max_features=sqrt, max_depth=20, total=  34.0s\n",
      "[CV] n_estimators=1100, min_samples_split=5, max_features=sqrt, max_depth=20 \n",
      "[CV]  n_estimators=1100, min_samples_split=5, max_features=sqrt, max_depth=20, total=  39.6s\n",
      "[CV] n_estimators=1100, min_samples_split=5, max_features=sqrt, max_depth=20 \n",
      "[CV]  n_estimators=1100, min_samples_split=5, max_features=sqrt, max_depth=20, total=  43.1s\n",
      "[CV] n_estimators=1000, min_samples_split=100, max_features=auto, max_depth=15 \n",
      "[CV]  n_estimators=1000, min_samples_split=100, max_features=auto, max_depth=15, total= 1.2min\n",
      "[CV] n_estimators=1000, min_samples_split=100, max_features=auto, max_depth=15 \n",
      "[CV]  n_estimators=1000, min_samples_split=100, max_features=auto, max_depth=15, total= 1.1min\n",
      "[CV] n_estimators=1000, min_samples_split=100, max_features=auto, max_depth=15 \n",
      "[CV]  n_estimators=1000, min_samples_split=100, max_features=auto, max_depth=15, total= 1.2min\n",
      "[CV] n_estimators=1000, min_samples_split=100, max_features=auto, max_depth=15 \n",
      "[CV]  n_estimators=1000, min_samples_split=100, max_features=auto, max_depth=15, total= 1.2min\n",
      "[CV] n_estimators=1000, min_samples_split=100, max_features=auto, max_depth=15 \n",
      "[CV]  n_estimators=1000, min_samples_split=100, max_features=auto, max_depth=15, total= 1.2min\n",
      "[CV] n_estimators=1100, min_samples_split=100, max_features=sqrt, max_depth=20 \n",
      "[CV]  n_estimators=1100, min_samples_split=100, max_features=sqrt, max_depth=20, total=  27.2s\n",
      "[CV] n_estimators=1100, min_samples_split=100, max_features=sqrt, max_depth=20 \n",
      "[CV]  n_estimators=1100, min_samples_split=100, max_features=sqrt, max_depth=20, total=  26.9s\n",
      "[CV] n_estimators=1100, min_samples_split=100, max_features=sqrt, max_depth=20 \n",
      "[CV]  n_estimators=1100, min_samples_split=100, max_features=sqrt, max_depth=20, total=  27.1s\n",
      "[CV] n_estimators=1100, min_samples_split=100, max_features=sqrt, max_depth=20 \n",
      "[CV]  n_estimators=1100, min_samples_split=100, max_features=sqrt, max_depth=20, total=  27.0s\n",
      "[CV] n_estimators=1100, min_samples_split=100, max_features=sqrt, max_depth=20 \n",
      "[CV]  n_estimators=1100, min_samples_split=100, max_features=sqrt, max_depth=20, total=  27.2s\n",
      "[CV] n_estimators=900, min_samples_split=10, max_features=auto, max_depth=20 \n",
      "[CV]  n_estimators=900, min_samples_split=10, max_features=auto, max_depth=20, total= 1.5min\n",
      "[CV] n_estimators=900, min_samples_split=10, max_features=auto, max_depth=20 \n",
      "[CV]  n_estimators=900, min_samples_split=10, max_features=auto, max_depth=20, total= 1.4min\n",
      "[CV] n_estimators=900, min_samples_split=10, max_features=auto, max_depth=20 \n",
      "[CV]  n_estimators=900, min_samples_split=10, max_features=auto, max_depth=20, total= 1.4min\n",
      "[CV] n_estimators=900, min_samples_split=10, max_features=auto, max_depth=20 \n",
      "[CV]  n_estimators=900, min_samples_split=10, max_features=auto, max_depth=20, total= 1.3min\n",
      "[CV] n_estimators=900, min_samples_split=10, max_features=auto, max_depth=20 \n",
      "[CV]  n_estimators=900, min_samples_split=10, max_features=auto, max_depth=20, total= 1.1min\n",
      "[CV] n_estimators=200, min_samples_split=5, max_features=auto, max_depth=10 \n",
      "[CV]  n_estimators=200, min_samples_split=5, max_features=auto, max_depth=10, total=  10.3s\n",
      "[CV] n_estimators=200, min_samples_split=5, max_features=auto, max_depth=10 \n",
      "[CV]  n_estimators=200, min_samples_split=5, max_features=auto, max_depth=10, total=  10.0s\n",
      "[CV] n_estimators=200, min_samples_split=5, max_features=auto, max_depth=10 \n",
      "[CV]  n_estimators=200, min_samples_split=5, max_features=auto, max_depth=10, total=  10.1s\n",
      "[CV] n_estimators=200, min_samples_split=5, max_features=auto, max_depth=10 \n",
      "[CV]  n_estimators=200, min_samples_split=5, max_features=auto, max_depth=10, total=  10.2s\n",
      "[CV] n_estimators=200, min_samples_split=5, max_features=auto, max_depth=10 \n",
      "[CV]  n_estimators=200, min_samples_split=5, max_features=auto, max_depth=10, total=  10.3s\n",
      "[CV] n_estimators=1000, min_samples_split=10, max_features=auto, max_depth=20 \n",
      "[CV]  n_estimators=1000, min_samples_split=10, max_features=auto, max_depth=20, total= 1.2min\n",
      "[CV] n_estimators=1000, min_samples_split=10, max_features=auto, max_depth=20 \n",
      "[CV]  n_estimators=1000, min_samples_split=10, max_features=auto, max_depth=20, total= 1.2min\n",
      "[CV] n_estimators=1000, min_samples_split=10, max_features=auto, max_depth=20 \n",
      "[CV]  n_estimators=1000, min_samples_split=10, max_features=auto, max_depth=20, total= 1.3min\n",
      "[CV] n_estimators=1000, min_samples_split=10, max_features=auto, max_depth=20 \n",
      "[CV]  n_estimators=1000, min_samples_split=10, max_features=auto, max_depth=20, total= 1.5min\n",
      "[CV] n_estimators=1000, min_samples_split=10, max_features=auto, max_depth=20 \n",
      "[CV]  n_estimators=1000, min_samples_split=10, max_features=auto, max_depth=20, total= 1.3min\n",
      "[CV] n_estimators=1200, min_samples_split=5, max_features=sqrt, max_depth=25 \n",
      "[CV]  n_estimators=1200, min_samples_split=5, max_features=sqrt, max_depth=25, total=  38.5s\n",
      "[CV] n_estimators=1200, min_samples_split=5, max_features=sqrt, max_depth=25 \n",
      "[CV]  n_estimators=1200, min_samples_split=5, max_features=sqrt, max_depth=25, total=  39.7s\n",
      "[CV] n_estimators=1200, min_samples_split=5, max_features=sqrt, max_depth=25 \n",
      "[CV]  n_estimators=1200, min_samples_split=5, max_features=sqrt, max_depth=25, total=  38.6s\n",
      "[CV] n_estimators=1200, min_samples_split=5, max_features=sqrt, max_depth=25 \n",
      "[CV]  n_estimators=1200, min_samples_split=5, max_features=sqrt, max_depth=25, total=  39.7s\n",
      "[CV] n_estimators=1200, min_samples_split=5, max_features=sqrt, max_depth=25 \n",
      "[CV]  n_estimators=1200, min_samples_split=5, max_features=sqrt, max_depth=25, total=  43.7s\n",
      "[CV] n_estimators=900, min_samples_split=5, max_features=auto, max_depth=25 \n",
      "[CV]  n_estimators=900, min_samples_split=5, max_features=auto, max_depth=25, total= 1.3min\n",
      "[CV] n_estimators=900, min_samples_split=5, max_features=auto, max_depth=25 \n",
      "[CV]  n_estimators=900, min_samples_split=5, max_features=auto, max_depth=25, total= 1.2min\n",
      "[CV] n_estimators=900, min_samples_split=5, max_features=auto, max_depth=25 \n",
      "[CV]  n_estimators=900, min_samples_split=5, max_features=auto, max_depth=25, total= 1.4min\n",
      "[CV] n_estimators=900, min_samples_split=5, max_features=auto, max_depth=25 \n",
      "[CV]  n_estimators=900, min_samples_split=5, max_features=auto, max_depth=25, total= 1.3min\n",
      "[CV] n_estimators=900, min_samples_split=5, max_features=auto, max_depth=25 \n",
      "[CV]  n_estimators=900, min_samples_split=5, max_features=auto, max_depth=25, total= 1.3min\n",
      "[CV] n_estimators=500, min_samples_split=100, max_features=auto, max_depth=20 \n",
      "[CV]  n_estimators=500, min_samples_split=100, max_features=auto, max_depth=20, total=  29.3s\n",
      "[CV] n_estimators=500, min_samples_split=100, max_features=auto, max_depth=20 \n",
      "[CV]  n_estimators=500, min_samples_split=100, max_features=auto, max_depth=20, total=  31.7s\n",
      "[CV] n_estimators=500, min_samples_split=100, max_features=auto, max_depth=20 \n",
      "[CV]  n_estimators=500, min_samples_split=100, max_features=auto, max_depth=20, total=  29.6s\n",
      "[CV] n_estimators=500, min_samples_split=100, max_features=auto, max_depth=20 \n",
      "[CV]  n_estimators=500, min_samples_split=100, max_features=auto, max_depth=20, total=  28.7s\n",
      "[CV] n_estimators=500, min_samples_split=100, max_features=auto, max_depth=20 \n",
      "[CV]  n_estimators=500, min_samples_split=100, max_features=auto, max_depth=20, total=  28.6s\n",
      "[CV] n_estimators=1000, min_samples_split=10, max_features=auto, max_depth=30 \n",
      "[CV]  n_estimators=1000, min_samples_split=10, max_features=auto, max_depth=30, total= 1.4min\n",
      "[CV] n_estimators=1000, min_samples_split=10, max_features=auto, max_depth=30 \n",
      "[CV]  n_estimators=1000, min_samples_split=10, max_features=auto, max_depth=30, total= 1.4min\n",
      "[CV] n_estimators=1000, min_samples_split=10, max_features=auto, max_depth=30 \n",
      "[CV]  n_estimators=1000, min_samples_split=10, max_features=auto, max_depth=30, total= 1.6min\n",
      "[CV] n_estimators=1000, min_samples_split=10, max_features=auto, max_depth=30 \n",
      "[CV]  n_estimators=1000, min_samples_split=10, max_features=auto, max_depth=30, total= 1.3min\n",
      "[CV] n_estimators=1000, min_samples_split=10, max_features=auto, max_depth=30 \n",
      "[CV]  n_estimators=1000, min_samples_split=10, max_features=auto, max_depth=30, total= 1.3min\n",
      "[CV] n_estimators=500, min_samples_split=15, max_features=auto, max_depth=10 \n",
      "[CV]  n_estimators=500, min_samples_split=15, max_features=auto, max_depth=10, total=  30.0s\n",
      "[CV] n_estimators=500, min_samples_split=15, max_features=auto, max_depth=10 \n",
      "[CV]  n_estimators=500, min_samples_split=15, max_features=auto, max_depth=10, total=  29.4s\n",
      "[CV] n_estimators=500, min_samples_split=15, max_features=auto, max_depth=10 \n",
      "[CV]  n_estimators=500, min_samples_split=15, max_features=auto, max_depth=10, total=  26.4s\n",
      "[CV] n_estimators=500, min_samples_split=15, max_features=auto, max_depth=10 \n",
      "[CV]  n_estimators=500, min_samples_split=15, max_features=auto, max_depth=10, total=  26.3s\n",
      "[CV] n_estimators=500, min_samples_split=15, max_features=auto, max_depth=10 \n",
      "[CV]  n_estimators=500, min_samples_split=15, max_features=auto, max_depth=10, total=  27.8s\n",
      "[CV] n_estimators=300, min_samples_split=15, max_features=auto, max_depth=20 \n",
      "[CV]  n_estimators=300, min_samples_split=15, max_features=auto, max_depth=20, total=  21.6s\n",
      "[CV] n_estimators=300, min_samples_split=15, max_features=auto, max_depth=20 \n",
      "[CV]  n_estimators=300, min_samples_split=15, max_features=auto, max_depth=20, total=  21.9s\n",
      "[CV] n_estimators=300, min_samples_split=15, max_features=auto, max_depth=20 \n",
      "[CV]  n_estimators=300, min_samples_split=15, max_features=auto, max_depth=20, total=  21.8s\n",
      "[CV] n_estimators=300, min_samples_split=15, max_features=auto, max_depth=20 \n",
      "[CV]  n_estimators=300, min_samples_split=15, max_features=auto, max_depth=20, total=  21.6s\n",
      "[CV] n_estimators=300, min_samples_split=15, max_features=auto, max_depth=20 \n",
      "[CV]  n_estimators=300, min_samples_split=15, max_features=auto, max_depth=20, total=  21.7s\n"
     ]
    },
    {
     "name": "stderr",
     "output_type": "stream",
     "text": [
      "[Parallel(n_jobs=1)]: Done 250 out of 250 | elapsed: 138.5min finished\n"
     ]
    },
    {
     "data": {
      "text/plain": [
       "RandomizedSearchCV(cv=5, error_score='raise-deprecating',\n",
       "                   estimator=RandomForestRegressor(bootstrap=True,\n",
       "                                                   criterion='mse',\n",
       "                                                   max_depth=None,\n",
       "                                                   max_features='auto',\n",
       "                                                   max_leaf_nodes=None,\n",
       "                                                   min_impurity_decrease=0.0,\n",
       "                                                   min_impurity_split=None,\n",
       "                                                   min_samples_leaf=1,\n",
       "                                                   min_samples_split=2,\n",
       "                                                   min_weight_fraction_leaf=0.0,\n",
       "                                                   n_estimators='warn',\n",
       "                                                   n_jobs=None, oob_score=False,\n",
       "                                                   random_sta...\n",
       "                                                   warm_start=False),\n",
       "                   iid='warn', n_iter=50, n_jobs=None,\n",
       "                   param_distributions={'max_depth': [5, 10, 15, 20, 25, 30],\n",
       "                                        'max_features': ['auto', 'sqrt'],\n",
       "                                        'min_samples_split': [2, 5, 10, 15,\n",
       "                                                              100],\n",
       "                                        'n_estimators': [100, 200, 300, 400,\n",
       "                                                         500, 600, 700, 800,\n",
       "                                                         900, 1000, 1100,\n",
       "                                                         1200]},\n",
       "                   pre_dispatch='2*n_jobs', random_state=None, refit=True,\n",
       "                   return_train_score=False, scoring='neg_mean_squared_error',\n",
       "                   verbose=2)"
      ]
     },
     "execution_count": 91,
     "metadata": {},
     "output_type": "execute_result"
    }
   ],
   "source": [
    "random.fit(X_train,y_train)"
   ]
  },
  {
   "cell_type": "code",
   "execution_count": 94,
   "metadata": {},
   "outputs": [
    {
     "data": {
      "text/plain": [
       "RandomForestRegressor(bootstrap=True, criterion='mse', max_depth=25,\n",
       "                      max_features='auto', max_leaf_nodes=None,\n",
       "                      min_impurity_decrease=0.0, min_impurity_split=None,\n",
       "                      min_samples_leaf=1, min_samples_split=2,\n",
       "                      min_weight_fraction_leaf=0.0, n_estimators=400,\n",
       "                      n_jobs=None, oob_score=False, random_state=None,\n",
       "                      verbose=0, warm_start=False)"
      ]
     },
     "execution_count": 94,
     "metadata": {},
     "output_type": "execute_result"
    }
   ],
   "source": [
    "random.best_estimator_"
   ]
  },
  {
   "cell_type": "code",
   "execution_count": 95,
   "metadata": {},
   "outputs": [
    {
     "data": {
      "text/plain": [
       "{'n_estimators': 400,\n",
       " 'min_samples_split': 2,\n",
       " 'max_features': 'auto',\n",
       " 'max_depth': 25}"
      ]
     },
     "execution_count": 95,
     "metadata": {},
     "output_type": "execute_result"
    }
   ],
   "source": [
    "random.best_params_"
   ]
  },
  {
   "cell_type": "code",
   "execution_count": 96,
   "metadata": {},
   "outputs": [],
   "source": [
    "from sklearn.ensemble import RandomForestRegressor\n",
    "RForest=RandomForestRegressor(n_estimators=400,random_state=0,min_samples_leaf=.0001,min_samples_split=2,max_features='auto',max_depth=25)"
   ]
  },
  {
   "cell_type": "code",
   "execution_count": 99,
   "metadata": {},
   "outputs": [
    {
     "data": {
      "text/plain": [
       "RandomForestRegressor(bootstrap=True, criterion='mse', max_depth=25,\n",
       "                      max_features='auto', max_leaf_nodes=None,\n",
       "                      min_impurity_decrease=0.0, min_impurity_split=None,\n",
       "                      min_samples_leaf=0.0001, min_samples_split=2,\n",
       "                      min_weight_fraction_leaf=0.0, n_estimators=400,\n",
       "                      n_jobs=None, oob_score=False, random_state=0, verbose=0,\n",
       "                      warm_start=False)"
      ]
     },
     "execution_count": 99,
     "metadata": {},
     "output_type": "execute_result"
    }
   ],
   "source": [
    "RForest.fit(X_train,y_train)"
   ]
  },
  {
   "cell_type": "code",
   "execution_count": 100,
   "metadata": {},
   "outputs": [],
   "source": [
    "y_pred=RForest.predict(X_test)"
   ]
  },
  {
   "cell_type": "code",
   "execution_count": 101,
   "metadata": {},
   "outputs": [],
   "source": [
    "from sklearn.metrics import r2_score"
   ]
  },
  {
   "cell_type": "code",
   "execution_count": 103,
   "metadata": {},
   "outputs": [
    {
     "data": {
      "text/plain": [
       "0.8391525322899167"
      ]
     },
     "execution_count": 103,
     "metadata": {},
     "output_type": "execute_result"
    }
   ],
   "source": [
    "r2_score(y_test,y_pred)"
   ]
  },
  {
   "cell_type": "markdown",
   "metadata": {},
   "source": [
    "# With Hyper Parameter tuning i can able to get 83% accuracy"
   ]
  },
  {
   "cell_type": "code",
   "execution_count": null,
   "metadata": {},
   "outputs": [],
   "source": []
  }
 ],
 "metadata": {
  "kernelspec": {
   "display_name": "Python 3",
   "language": "python",
   "name": "python3"
  },
  "language_info": {
   "codemirror_mode": {
    "name": "ipython",
    "version": 3
   },
   "file_extension": ".py",
   "mimetype": "text/x-python",
   "name": "python",
   "nbconvert_exporter": "python",
   "pygments_lexer": "ipython3",
   "version": "3.7.3"
  }
 },
 "nbformat": 4,
 "nbformat_minor": 2
}
